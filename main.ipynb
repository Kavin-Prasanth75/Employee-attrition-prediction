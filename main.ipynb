{
 "cells": [
  {
   "cell_type": "markdown",
   "id": "12543911",
   "metadata": {},
   "source": [
    "**Need of Employee Attrition prediction**\n",
    "\n",
    "1. **Managing workforce**: If the supervisors or HR came to know about some employees that they will be planning to leave the company then they could get in touch with those employees which can help them to stay back or they can manage the workforce by hiring the new alternative of those employees.\n",
    "\n",
    "\n",
    "2. **Smooth pipeline**: If all the employees in the current project are working continuously on a project then the pipeline of that project will be smooth but if suppose one efficient asset of the project(employee) suddenly leave that company then the workflow will be not so smooth.\n",
    "\n",
    "\n",
    "3. **Hiring Management**: If HR of one particular project came to know about the employee who is willing to leave the company then he/she can manage the number of hiring and they can get the valuable asset whenever they need so for the efficient flow of work."
   ]
  },
  {
   "cell_type": "markdown",
   "id": "93e7ed48",
   "metadata": {},
   "source": [
    "# IMPORTING LIBRARIES"
   ]
  },
  {
   "cell_type": "code",
   "execution_count": 1,
   "id": "5cc15c56",
   "metadata": {},
   "outputs": [],
   "source": [
    "import pandas as pd\n",
    "import numpy as np\n",
    "import matplotlib.pyplot as plt\n",
    "import seaborn as sns\n",
    "from sklearn.model_selection import train_test_split\n",
    "from sklearn.metrics import confusion_matrix\n",
    "from sklearn import datasets\n",
    "from sklearn.metrics import accuracy_score\n",
    "import warnings\n",
    "warnings.filterwarnings(\"ignore\")"
   ]
  },
  {
   "cell_type": "code",
   "execution_count": 2,
   "id": "0b1204fa",
   "metadata": {},
   "outputs": [],
   "source": [
    "## Reading the dataset\n",
    "attrdata = pd.read_csv(\"./data/data.csv\")"
   ]
  },
  {
   "cell_type": "code",
   "execution_count": 3,
   "id": "b558df25",
   "metadata": {},
   "outputs": [
    {
     "data": {
      "text/html": [
       "<div>\n",
       "<style scoped>\n",
       "    .dataframe tbody tr th:only-of-type {\n",
       "        vertical-align: middle;\n",
       "    }\n",
       "\n",
       "    .dataframe tbody tr th {\n",
       "        vertical-align: top;\n",
       "    }\n",
       "\n",
       "    .dataframe thead th {\n",
       "        text-align: right;\n",
       "    }\n",
       "</style>\n",
       "<table border=\"1\" class=\"dataframe\">\n",
       "  <thead>\n",
       "    <tr style=\"text-align: right;\">\n",
       "      <th></th>\n",
       "      <th>table id</th>\n",
       "      <th>name</th>\n",
       "      <th>phone number</th>\n",
       "      <th>Location</th>\n",
       "      <th>Emp. Group</th>\n",
       "      <th>Function</th>\n",
       "      <th>Gender</th>\n",
       "      <th>Tenure</th>\n",
       "      <th>Tenure Grp.</th>\n",
       "      <th>Experience (YY.MM)</th>\n",
       "      <th>Marital Status</th>\n",
       "      <th>Age in YY.</th>\n",
       "      <th>Hiring Source</th>\n",
       "      <th>Promoted/Non Promoted</th>\n",
       "      <th>Job Role Match</th>\n",
       "      <th>Stay/Left</th>\n",
       "    </tr>\n",
       "  </thead>\n",
       "  <tbody>\n",
       "    <tr>\n",
       "      <th>0</th>\n",
       "      <td>1</td>\n",
       "      <td>sid</td>\n",
       "      <td>9876544345</td>\n",
       "      <td>Pune</td>\n",
       "      <td>B2</td>\n",
       "      <td>Operation</td>\n",
       "      <td>Male</td>\n",
       "      <td>0.00</td>\n",
       "      <td>&lt; =1</td>\n",
       "      <td>6.08</td>\n",
       "      <td>Single</td>\n",
       "      <td>27.12</td>\n",
       "      <td>Direct</td>\n",
       "      <td>Non Promoted</td>\n",
       "      <td>Yes</td>\n",
       "      <td>Left</td>\n",
       "    </tr>\n",
       "    <tr>\n",
       "      <th>1</th>\n",
       "      <td>2</td>\n",
       "      <td>sid</td>\n",
       "      <td>9876544345</td>\n",
       "      <td>Noida</td>\n",
       "      <td>B7</td>\n",
       "      <td>Support</td>\n",
       "      <td>Male</td>\n",
       "      <td>0.00</td>\n",
       "      <td>&lt; =1</td>\n",
       "      <td>13.00</td>\n",
       "      <td>Marr.</td>\n",
       "      <td>38.08</td>\n",
       "      <td>Direct</td>\n",
       "      <td>Promoted</td>\n",
       "      <td>No</td>\n",
       "      <td>Stay</td>\n",
       "    </tr>\n",
       "    <tr>\n",
       "      <th>2</th>\n",
       "      <td>3</td>\n",
       "      <td>sid</td>\n",
       "      <td>9876544345</td>\n",
       "      <td>Bangalore</td>\n",
       "      <td>B3</td>\n",
       "      <td>Operation</td>\n",
       "      <td>Male</td>\n",
       "      <td>0.01</td>\n",
       "      <td>&lt; =1</td>\n",
       "      <td>16.05</td>\n",
       "      <td>Marr.</td>\n",
       "      <td>36.04</td>\n",
       "      <td>Direct</td>\n",
       "      <td>Promoted</td>\n",
       "      <td>Yes</td>\n",
       "      <td>Stay</td>\n",
       "    </tr>\n",
       "    <tr>\n",
       "      <th>3</th>\n",
       "      <td>4</td>\n",
       "      <td>sid</td>\n",
       "      <td>9876544345</td>\n",
       "      <td>Noida</td>\n",
       "      <td>B2</td>\n",
       "      <td>Operation</td>\n",
       "      <td>Male</td>\n",
       "      <td>0.01</td>\n",
       "      <td>&lt; =1</td>\n",
       "      <td>6.06</td>\n",
       "      <td>Marr.</td>\n",
       "      <td>32.07</td>\n",
       "      <td>Direct</td>\n",
       "      <td>Promoted</td>\n",
       "      <td>Yes</td>\n",
       "      <td>Stay</td>\n",
       "    </tr>\n",
       "    <tr>\n",
       "      <th>4</th>\n",
       "      <td>5</td>\n",
       "      <td>sid</td>\n",
       "      <td>9876544345</td>\n",
       "      <td>Lucknow</td>\n",
       "      <td>B2</td>\n",
       "      <td>Operation</td>\n",
       "      <td>Male</td>\n",
       "      <td>0.00</td>\n",
       "      <td>&lt; =1</td>\n",
       "      <td>7.00</td>\n",
       "      <td>Marr.</td>\n",
       "      <td>32.05</td>\n",
       "      <td>Direct</td>\n",
       "      <td>Non Promoted</td>\n",
       "      <td>Yes</td>\n",
       "      <td>Stay</td>\n",
       "    </tr>\n",
       "  </tbody>\n",
       "</table>\n",
       "</div>"
      ],
      "text/plain": [
       "   table id name  phone number   Location Emp. Group   Function Gender   \\\n",
       "0         1  sid    9876544345       Pune         B2  Operation    Male   \n",
       "1         2  sid    9876544345      Noida         B7    Support    Male   \n",
       "2         3  sid    9876544345  Bangalore         B3  Operation    Male   \n",
       "3         4  sid    9876544345      Noida         B2  Operation    Male   \n",
       "4         5  sid    9876544345    Lucknow         B2  Operation    Male   \n",
       "\n",
       "   Tenure Tenure Grp.  Experience (YY.MM) Marital Status  Age in YY.  \\\n",
       "0    0.00        < =1                6.08         Single       27.12   \n",
       "1    0.00        < =1               13.00          Marr.       38.08   \n",
       "2    0.01        < =1               16.05          Marr.       36.04   \n",
       "3    0.01        < =1                6.06          Marr.       32.07   \n",
       "4    0.00        < =1                7.00          Marr.       32.05   \n",
       "\n",
       "  Hiring Source Promoted/Non Promoted Job Role Match Stay/Left  \n",
       "0        Direct          Non Promoted            Yes      Left  \n",
       "1        Direct              Promoted             No      Stay  \n",
       "2        Direct              Promoted            Yes      Stay  \n",
       "3        Direct              Promoted            Yes      Stay  \n",
       "4        Direct          Non Promoted            Yes      Stay  "
      ]
     },
     "execution_count": 3,
     "metadata": {},
     "output_type": "execute_result"
    }
   ],
   "source": [
    "attrdata.head()"
   ]
  },
  {
   "cell_type": "markdown",
   "id": "b3eb3133",
   "metadata": {},
   "source": [
    "# DATA EXPLORATION"
   ]
  },
  {
   "cell_type": "code",
   "execution_count": 4,
   "id": "3fd5405b",
   "metadata": {},
   "outputs": [
    {
     "data": {
      "text/plain": [
       "table id  name   phone number  Location    Emp. Group  Function   Gender   Tenure  Tenure Grp.  Experience (YY.MM)  Marital Status  Age in YY.  Hiring Source  Promoted/Non Promoted  Job Role Match  Stay/Left\n",
       "1         sid    9876544345    Pune        B2          Operation  Male     0.00    < =1         6.08                Single          27.12       Direct         Non Promoted           Yes             Left         1\n",
       "2         sid    9876544345    Noida       B7          Support    Male     0.00    < =1         13.00               Marr.           38.08       Direct         Promoted               No              Stay         1\n",
       "3         sid    9876544345    Bangalore   B3          Operation  Male     0.01    < =1         16.05               Marr.           36.04       Direct         Promoted               Yes             Stay         1\n",
       "4         sid    9876544345    Noida       B2          Operation  Male     0.01    < =1         6.06                Marr.           32.07       Direct         Promoted               Yes             Stay         1\n",
       "5         sid    9876544345    Lucknow     B2          Operation  Male     0.00    < =1         7.00                Marr.           32.05       Direct         Non Promoted           Yes             Stay         1\n",
       "                                                                                                                                                                                                                  ..\n",
       "897       Rahul  9876544345    Vijayawada  B1          Operation  Male     0.03    < =1         0.03                Single          24.06       Direct         Non Promoted           Yes             Stay         1\n",
       "898       Rahul  9876544345    Vijayawada  B1          Operation  Female   0.03    < =1         0.03                Single          21.09       Direct         Non Promoted           Yes             Stay         1\n",
       "899       Rahul  9876544345    Vijayawada  B1          Operation  Female   0.03    < =1         0.03                Single          22.02       Direct         Non Promoted           Yes             Left         1\n",
       "901       Rahul  9876544345    Vijayawada  B1          Operation  Female   0.03    < =1         0.03                Single          22.02       Direct         Non Promoted           Yes             Stay         1\n",
       "902       Rahul  9876544345    Madurai     B2          Operation  Male     0.02    < =1         10.02               Marr.           32.08       Direct         Non Promoted           No              Stay         1\n",
       "Name: count, Length: 896, dtype: int64"
      ]
     },
     "execution_count": 4,
     "metadata": {},
     "output_type": "execute_result"
    }
   ],
   "source": [
    "attrdata.value_counts()"
   ]
  },
  {
   "cell_type": "code",
   "execution_count": 5,
   "id": "7ea31887",
   "metadata": {},
   "outputs": [
    {
     "data": {
      "text/plain": [
       "(902, 16)"
      ]
     },
     "execution_count": 5,
     "metadata": {},
     "output_type": "execute_result"
    }
   ],
   "source": [
    "attrdata.shape"
   ]
  },
  {
   "cell_type": "code",
   "execution_count": 6,
   "id": "6e8c51cf",
   "metadata": {},
   "outputs": [
    {
     "data": {
      "text/html": [
       "<div>\n",
       "<style scoped>\n",
       "    .dataframe tbody tr th:only-of-type {\n",
       "        vertical-align: middle;\n",
       "    }\n",
       "\n",
       "    .dataframe tbody tr th {\n",
       "        vertical-align: top;\n",
       "    }\n",
       "\n",
       "    .dataframe thead th {\n",
       "        text-align: right;\n",
       "    }\n",
       "</style>\n",
       "<table border=\"1\" class=\"dataframe\">\n",
       "  <thead>\n",
       "    <tr style=\"text-align: right;\">\n",
       "      <th></th>\n",
       "      <th>table id</th>\n",
       "      <th>phone number</th>\n",
       "      <th>Tenure</th>\n",
       "      <th>Experience (YY.MM)</th>\n",
       "      <th>Age in YY.</th>\n",
       "    </tr>\n",
       "  </thead>\n",
       "  <tbody>\n",
       "    <tr>\n",
       "      <th>count</th>\n",
       "      <td>902.000000</td>\n",
       "      <td>9.020000e+02</td>\n",
       "      <td>902.000000</td>\n",
       "      <td>898.000000</td>\n",
       "      <td>902.000000</td>\n",
       "    </tr>\n",
       "    <tr>\n",
       "      <th>mean</th>\n",
       "      <td>451.500000</td>\n",
       "      <td>9.876544e+09</td>\n",
       "      <td>1.198293</td>\n",
       "      <td>5.150457</td>\n",
       "      <td>29.055288</td>\n",
       "    </tr>\n",
       "    <tr>\n",
       "      <th>std</th>\n",
       "      <td>260.529269</td>\n",
       "      <td>0.000000e+00</td>\n",
       "      <td>0.823203</td>\n",
       "      <td>3.483456</td>\n",
       "      <td>4.499554</td>\n",
       "    </tr>\n",
       "    <tr>\n",
       "      <th>min</th>\n",
       "      <td>1.000000</td>\n",
       "      <td>9.876544e+09</td>\n",
       "      <td>0.000000</td>\n",
       "      <td>0.030000</td>\n",
       "      <td>21.050000</td>\n",
       "    </tr>\n",
       "    <tr>\n",
       "      <th>25%</th>\n",
       "      <td>226.250000</td>\n",
       "      <td>9.876544e+09</td>\n",
       "      <td>0.110000</td>\n",
       "      <td>2.100000</td>\n",
       "      <td>26.050000</td>\n",
       "    </tr>\n",
       "    <tr>\n",
       "      <th>50%</th>\n",
       "      <td>451.500000</td>\n",
       "      <td>9.876544e+09</td>\n",
       "      <td>1.060000</td>\n",
       "      <td>4.110000</td>\n",
       "      <td>28.060000</td>\n",
       "    </tr>\n",
       "    <tr>\n",
       "      <th>75%</th>\n",
       "      <td>676.750000</td>\n",
       "      <td>9.876544e+09</td>\n",
       "      <td>2.040000</td>\n",
       "      <td>7.027500</td>\n",
       "      <td>31.070000</td>\n",
       "    </tr>\n",
       "    <tr>\n",
       "      <th>max</th>\n",
       "      <td>902.000000</td>\n",
       "      <td>9.876544e+09</td>\n",
       "      <td>3.000000</td>\n",
       "      <td>25.080000</td>\n",
       "      <td>52.060000</td>\n",
       "    </tr>\n",
       "  </tbody>\n",
       "</table>\n",
       "</div>"
      ],
      "text/plain": [
       "         table id  phone number      Tenure  Experience (YY.MM)  Age in YY.\n",
       "count  902.000000  9.020000e+02  902.000000          898.000000  902.000000\n",
       "mean   451.500000  9.876544e+09    1.198293            5.150457   29.055288\n",
       "std    260.529269  0.000000e+00    0.823203            3.483456    4.499554\n",
       "min      1.000000  9.876544e+09    0.000000            0.030000   21.050000\n",
       "25%    226.250000  9.876544e+09    0.110000            2.100000   26.050000\n",
       "50%    451.500000  9.876544e+09    1.060000            4.110000   28.060000\n",
       "75%    676.750000  9.876544e+09    2.040000            7.027500   31.070000\n",
       "max    902.000000  9.876544e+09    3.000000           25.080000   52.060000"
      ]
     },
     "execution_count": 6,
     "metadata": {},
     "output_type": "execute_result"
    }
   ],
   "source": [
    "attrdata.describe()"
   ]
  },
  {
   "cell_type": "markdown",
   "id": "3f81600c",
   "metadata": {},
   "source": [
    "#### Droping index column since both index and table_id does the same job\n"
   ]
  },
  {
   "cell_type": "code",
   "execution_count": 23,
   "id": "dc241571",
   "metadata": {},
   "outputs": [
    {
     "data": {
      "text/html": [
       "<div>\n",
       "<style scoped>\n",
       "    .dataframe tbody tr th:only-of-type {\n",
       "        vertical-align: middle;\n",
       "    }\n",
       "\n",
       "    .dataframe tbody tr th {\n",
       "        vertical-align: top;\n",
       "    }\n",
       "\n",
       "    .dataframe thead th {\n",
       "        text-align: right;\n",
       "    }\n",
       "</style>\n",
       "<table border=\"1\" class=\"dataframe\">\n",
       "  <thead>\n",
       "    <tr style=\"text-align: right;\">\n",
       "      <th></th>\n",
       "      <th>table id</th>\n",
       "      <th>name</th>\n",
       "      <th>phone number</th>\n",
       "      <th>Location</th>\n",
       "      <th>Emp. Group</th>\n",
       "      <th>Function</th>\n",
       "      <th>Gender</th>\n",
       "      <th>Tenure</th>\n",
       "      <th>Tenure Grp.</th>\n",
       "      <th>Experience (YY.MM)</th>\n",
       "      <th>Marital Status</th>\n",
       "      <th>Age in YY.</th>\n",
       "      <th>Hiring Source</th>\n",
       "      <th>Promoted/Non Promoted</th>\n",
       "      <th>Job Role Match</th>\n",
       "      <th>Stay/Left</th>\n",
       "    </tr>\n",
       "  </thead>\n",
       "  <tbody>\n",
       "    <tr>\n",
       "      <th>0</th>\n",
       "      <td>1</td>\n",
       "      <td>sid</td>\n",
       "      <td>9876544345</td>\n",
       "      <td>Pune</td>\n",
       "      <td>B2</td>\n",
       "      <td>Operation</td>\n",
       "      <td>Male</td>\n",
       "      <td>0.00</td>\n",
       "      <td>&lt; =1</td>\n",
       "      <td>6.08</td>\n",
       "      <td>Single</td>\n",
       "      <td>27.12</td>\n",
       "      <td>Direct</td>\n",
       "      <td>Non Promoted</td>\n",
       "      <td>Yes</td>\n",
       "      <td>Left</td>\n",
       "    </tr>\n",
       "    <tr>\n",
       "      <th>1</th>\n",
       "      <td>2</td>\n",
       "      <td>sid</td>\n",
       "      <td>9876544345</td>\n",
       "      <td>Noida</td>\n",
       "      <td>B7</td>\n",
       "      <td>Support</td>\n",
       "      <td>Male</td>\n",
       "      <td>0.00</td>\n",
       "      <td>&lt; =1</td>\n",
       "      <td>13.00</td>\n",
       "      <td>Marr.</td>\n",
       "      <td>38.08</td>\n",
       "      <td>Direct</td>\n",
       "      <td>Promoted</td>\n",
       "      <td>No</td>\n",
       "      <td>Stay</td>\n",
       "    </tr>\n",
       "    <tr>\n",
       "      <th>2</th>\n",
       "      <td>3</td>\n",
       "      <td>sid</td>\n",
       "      <td>9876544345</td>\n",
       "      <td>Bangalore</td>\n",
       "      <td>B3</td>\n",
       "      <td>Operation</td>\n",
       "      <td>Male</td>\n",
       "      <td>0.01</td>\n",
       "      <td>&lt; =1</td>\n",
       "      <td>16.05</td>\n",
       "      <td>Marr.</td>\n",
       "      <td>36.04</td>\n",
       "      <td>Direct</td>\n",
       "      <td>Promoted</td>\n",
       "      <td>Yes</td>\n",
       "      <td>Stay</td>\n",
       "    </tr>\n",
       "    <tr>\n",
       "      <th>3</th>\n",
       "      <td>4</td>\n",
       "      <td>sid</td>\n",
       "      <td>9876544345</td>\n",
       "      <td>Noida</td>\n",
       "      <td>B2</td>\n",
       "      <td>Operation</td>\n",
       "      <td>Male</td>\n",
       "      <td>0.01</td>\n",
       "      <td>&lt; =1</td>\n",
       "      <td>6.06</td>\n",
       "      <td>Marr.</td>\n",
       "      <td>32.07</td>\n",
       "      <td>Direct</td>\n",
       "      <td>Promoted</td>\n",
       "      <td>Yes</td>\n",
       "      <td>Stay</td>\n",
       "    </tr>\n",
       "    <tr>\n",
       "      <th>4</th>\n",
       "      <td>5</td>\n",
       "      <td>sid</td>\n",
       "      <td>9876544345</td>\n",
       "      <td>Lucknow</td>\n",
       "      <td>B2</td>\n",
       "      <td>Operation</td>\n",
       "      <td>Male</td>\n",
       "      <td>0.00</td>\n",
       "      <td>&lt; =1</td>\n",
       "      <td>7.00</td>\n",
       "      <td>Marr.</td>\n",
       "      <td>32.05</td>\n",
       "      <td>Direct</td>\n",
       "      <td>Non Promoted</td>\n",
       "      <td>Yes</td>\n",
       "      <td>Stay</td>\n",
       "    </tr>\n",
       "  </tbody>\n",
       "</table>\n",
       "</div>"
      ],
      "text/plain": [
       "   table id name  phone number   Location Emp. Group   Function Gender   \\\n",
       "0         1  sid    9876544345       Pune         B2  Operation    Male   \n",
       "1         2  sid    9876544345      Noida         B7    Support    Male   \n",
       "2         3  sid    9876544345  Bangalore         B3  Operation    Male   \n",
       "3         4  sid    9876544345      Noida         B2  Operation    Male   \n",
       "4         5  sid    9876544345    Lucknow         B2  Operation    Male   \n",
       "\n",
       "   Tenure Tenure Grp.  Experience (YY.MM) Marital Status  Age in YY.  \\\n",
       "0    0.00        < =1                6.08         Single       27.12   \n",
       "1    0.00        < =1               13.00          Marr.       38.08   \n",
       "2    0.01        < =1               16.05          Marr.       36.04   \n",
       "3    0.01        < =1                6.06          Marr.       32.07   \n",
       "4    0.00        < =1                7.00          Marr.       32.05   \n",
       "\n",
       "  Hiring Source Promoted/Non Promoted Job Role Match Stay/Left  \n",
       "0        Direct          Non Promoted            Yes      Left  \n",
       "1        Direct              Promoted             No      Stay  \n",
       "2        Direct              Promoted            Yes      Stay  \n",
       "3        Direct              Promoted            Yes      Stay  \n",
       "4        Direct          Non Promoted            Yes      Stay  "
      ]
     },
     "execution_count": 23,
     "metadata": {},
     "output_type": "execute_result"
    }
   ],
   "source": [
    "attrdata.reset_index(drop=True, inplace=True)\n",
    "# Drop the index column if it is not needed\n",
    "attrdata.head()"
   ]
  },
  {
   "cell_type": "code",
   "execution_count": 24,
   "id": "b722c273",
   "metadata": {},
   "outputs": [
    {
     "data": {
      "text/plain": [
       "table id                 0\n",
       "name                     0\n",
       "phone number             0\n",
       "Location                 0\n",
       "Emp. Group               0\n",
       "Function                 0\n",
       "Gender                   0\n",
       "Tenure                   0\n",
       "Tenure Grp.              0\n",
       "Experience (YY.MM)       0\n",
       "Marital Status           0\n",
       "Age in YY.               0\n",
       "Hiring Source            0\n",
       "Promoted/Non Promoted    0\n",
       "Job Role Match           0\n",
       "Stay/Left                0\n",
       "dtype: int64"
      ]
     },
     "execution_count": 24,
     "metadata": {},
     "output_type": "execute_result"
    }
   ],
   "source": [
    "attrdata.isnull().sum()"
   ]
  },
  {
   "cell_type": "code",
   "execution_count": 25,
   "id": "14233e82",
   "metadata": {},
   "outputs": [
    {
     "data": {
      "text/plain": [
       "(896, 16)"
      ]
     },
     "execution_count": 25,
     "metadata": {},
     "output_type": "execute_result"
    }
   ],
   "source": [
    "attrdata.shape"
   ]
  },
  {
   "cell_type": "code",
   "execution_count": 26,
   "id": "4b1b85c2",
   "metadata": {},
   "outputs": [
    {
     "name": "stdout",
     "output_type": "stream",
     "text": [
      "Number of rows with null values in both 'Experience (YY.MM)' and 'Job Role Match': 0\n"
     ]
    }
   ],
   "source": [
    "mask = attrdata['Experience (YY.MM)'].isnull() & attrdata['Job Role Match'].isnull()\n",
    "num_rows = mask.sum()\n",
    "print(f\"Number of rows with null values in both 'Experience (YY.MM)' and 'Job Role Match': {num_rows}\")"
   ]
  },
  {
   "cell_type": "markdown",
   "id": "fda0255e",
   "metadata": {},
   "source": [
    "So , there are 6 rows which are having null values , lets remove them"
   ]
  },
  {
   "cell_type": "code",
   "execution_count": 27,
   "id": "0ab71ec2",
   "metadata": {},
   "outputs": [
    {
     "data": {
      "text/plain": [
       "(896, 16)"
      ]
     },
     "execution_count": 27,
     "metadata": {},
     "output_type": "execute_result"
    }
   ],
   "source": [
    "attrdata.dropna(axis=0,inplace=True)\n",
    "attrdata.shape"
   ]
  },
  {
   "cell_type": "markdown",
   "id": "2fa652bd",
   "metadata": {},
   "source": [
    "**Let’s explore all the categorical values and visualize them**\n",
    "\n",
    "Now, we will use the **value_counts** function so that we can get the **unique values** from every **categorical type of data.**"
   ]
  },
  {
   "cell_type": "markdown",
   "id": "9b41b2b0",
   "metadata": {},
   "source": [
    "**Gender**"
   ]
  },
  {
   "cell_type": "code",
   "execution_count": 28,
   "id": "8fccf88b",
   "metadata": {},
   "outputs": [
    {
     "data": {
      "text/plain": [
       "Gender \n",
       "Male      656\n",
       "Female    234\n",
       "other       6\n",
       "Name: count, dtype: int64"
      ]
     },
     "execution_count": 28,
     "metadata": {},
     "output_type": "execute_result"
    }
   ],
   "source": [
    "gender_counts = attrdata['Gender '].value_counts()\n",
    "gender_counts"
   ]
  },
  {
   "cell_type": "markdown",
   "id": "97bf8a3b",
   "metadata": {},
   "source": [
    "**Understanding the balancing of the Gender column visually**"
   ]
  },
  {
   "cell_type": "code",
   "execution_count": 29,
   "id": "c163db69",
   "metadata": {},
   "outputs": [
    {
     "data": {
      "text/plain": [
       "<Axes: title={'center': 'Count of different gender'}, xlabel='Gender '>"
      ]
     },
     "execution_count": 29,
     "metadata": {},
     "output_type": "execute_result"
    },
    {
     "data": {
      "image/png": "[encoded data removed]",
      "text/plain": [
       "<Figure size 640x480 with 1 Axes>"
      ]
     },
     "metadata": {},
     "output_type": "display_data"
    }
   ],
   "source": [
    "attrdata['Gender '].value_counts().plot(kind='bar',color=['salmon','lightblue'],title=\"Count of different gender\")"
   ]
  },
  {
   "cell_type": "markdown",
   "id": "a548d61d",
   "metadata": {},
   "source": [
    "Here, from the chart, it’s visible that the count of males is more than another category of the gender.\n",
    "\n",
    "**Now, let’s figure out that how gender could be the reason for employees to leave the company or to stay in.**"
   ]
  },
  {
   "cell_type": "code",
   "execution_count": 30,
   "id": "73e70bd9",
   "metadata": {},
   "outputs": [
    {
     "data": {
      "text/plain": [
       "(array([0, 1, 2]),\n",
       " [Text(0, 0, 'Female'), Text(1, 0, 'Male'), Text(2, 0, 'other')])"
      ]
     },
     "execution_count": 30,
     "metadata": {},
     "output_type": "execute_result"
    },
    {
     "data": {
      "image/png": "[encoded data removed]",
      "text/plain": [
       "<Figure size 1000x600 with 1 Axes>"
      ]
     },
     "metadata": {},
     "output_type": "display_data"
    }
   ],
   "source": [
    "#Create a plot for crosstab\n",
    "\n",
    "pd.crosstab(attrdata['Gender '],attrdata['Stay/Left']).plot(kind=\"bar\",figsize=(10,6))\n",
    "plt.title(\"Stay/Left vs Gender\")\n",
    "plt.xlabel(\"Stay/Left\")\n",
    "plt.ylabel(\"No of people who left based on gender\")\n",
    "plt.legend([\"Left\",\"Stay\"])\n",
    "plt.xticks(rotation=0)"
   ]
  },
  {
   "cell_type": "markdown",
   "id": "8ec4b6b1",
   "metadata": {},
   "source": [
    "Here, from the chart it’s visible that it heavily depends on males, also we can see that it’s either male, female or others but more number of them are staying in the company.\n",
    "\n",
    "\n",
    "**Promotion (Promoted/ Non-Promoted)**"
   ]
  },
  {
   "cell_type": "code",
   "execution_count": 31,
   "id": "de8b81a2",
   "metadata": {},
   "outputs": [
    {
     "data": {
      "text/plain": [
       "Promoted/Non Promoted\n",
       "Promoted        457\n",
       "Non Promoted    439\n",
       "Name: count, dtype: int64"
      ]
     },
     "execution_count": 31,
     "metadata": {},
     "output_type": "execute_result"
    }
   ],
   "source": [
    "promoted_dict = attrdata[\"Promoted/Non Promoted\"].value_counts()\n",
    "promoted_dict"
   ]
  },
  {
   "cell_type": "code",
   "execution_count": 32,
   "id": "992238ad",
   "metadata": {},
   "outputs": [
    {
     "data": {
      "text/plain": [
       "<Axes: title={'center': 'Promoted and Non Promoted'}, xlabel='Promoted/Non Promoted'>"
      ]
     },
     "execution_count": 32,
     "metadata": {},
     "output_type": "execute_result"
    },
    {
     "data": {
      "image/png": "[encoded data removed]",
      "text/plain": [
       "<Figure size 640x480 with 1 Axes>"
      ]
     },
     "metadata": {},
     "output_type": "display_data"
    }
   ],
   "source": [
    "attrdata['Promoted/Non Promoted'].value_counts().plot(kind='bar',color=['salmon','lightblue'],title=\"Promoted and Non Promoted\")"
   ]
  },
  {
   "cell_type": "markdown",
   "id": "4b6c0cb3",
   "metadata": {},
   "source": [
    "Now, from the above chart, we can see that when it comes to Promoted and Non-Promoted employees it’s quiet in balanced number.\n",
    "\n",
    "**Now, let’s figure out that how promotion could be the reason for employees to leave the company or to stay in.**"
   ]
  },
  {
   "cell_type": "code",
   "execution_count": 33,
   "id": "bf600018",
   "metadata": {},
   "outputs": [
    {
     "data": {
      "text/plain": [
       "(array([0, 1]), [Text(0, 0, 'Non Promoted'), Text(1, 0, 'Promoted')])"
      ]
     },
     "execution_count": 33,
     "metadata": {},
     "output_type": "execute_result"
    },
    {
     "data": {
      "image/png": "[encoded data removed]",
      "text/plain": [
       "<Figure size 1000x600 with 1 Axes>"
      ]
     },
     "metadata": {},
     "output_type": "display_data"
    }
   ],
   "source": [
    "#Create a plot for crosstab\n",
    "\n",
    "pd.crosstab(attrdata['Promoted/Non Promoted'],attrdata['Stay/Left']).plot(kind=\"bar\",figsize=(10,6))\n",
    "plt.title(\"Stay/Left vs Promoted/Non Promoted\")\n",
    "plt.xlabel(\"Stay/Left\")\n",
    "plt.ylabel(\"No. of people who left/stay based on promotion\")\n",
    "plt.legend([\"Left\",\"Stay\"])\n",
    "plt.xticks(rotation=0)"
   ]
  },
  {
   "cell_type": "markdown",
   "id": "45ad1700",
   "metadata": {},
   "source": [
    "Here, from the chart, it’s visible that the ones who are not promoted are leaving the company more as compared to the ones who are promoted which is also an obvious thing likely to happen.\n",
    "\n",
    "**Function (Operation/ Support/ Sales)**"
   ]
  },
  {
   "cell_type": "code",
   "execution_count": 34,
   "id": "dc401ef7",
   "metadata": {},
   "outputs": [
    {
     "data": {
      "text/plain": [
       "Function\n",
       "Operation    832\n",
       "Support       52\n",
       "Sales         12\n",
       "Name: count, dtype: int64"
      ]
     },
     "execution_count": 34,
     "metadata": {},
     "output_type": "execute_result"
    }
   ],
   "source": [
    "func_dict = attrdata[\"Function\"].value_counts()\n",
    "func_dict"
   ]
  },
  {
   "cell_type": "code",
   "execution_count": 35,
   "id": "f0556522",
   "metadata": {},
   "outputs": [
    {
     "data": {
      "text/plain": [
       "<Axes: title={'center': 'Functions in organization'}, xlabel='Function'>"
      ]
     },
     "execution_count": 35,
     "metadata": {},
     "output_type": "execute_result"
    },
    {
     "data": {
      "image/png": "[encoded data removed]",
      "text/plain": [
       "<Figure size 640x480 with 1 Axes>"
      ]
     },
     "metadata": {},
     "output_type": "display_data"
    }
   ],
   "source": [
    "attrdata['Function'].value_counts().plot(kind='bar',color=['salmon','lightblue'],title=\"Functions in organization\")"
   ]
  },
  {
   "cell_type": "markdown",
   "id": "162145fb",
   "metadata": {},
   "source": [
    "Now, we can see that majority of the function performed by employees are Operation itself then support and at the last it’s sales.\n",
    "\n",
    "**Now, let’s figure out that how function could be the reason for employees to leave the company or to stay in.**"
   ]
  },
  {
   "cell_type": "code",
   "execution_count": 36,
   "id": "69871693",
   "metadata": {},
   "outputs": [
    {
     "data": {
      "text/plain": [
       "(array([0, 1, 2]),\n",
       " [Text(0, 0, 'Operation'), Text(1, 0, 'Sales'), Text(2, 0, 'Support')])"
      ]
     },
     "execution_count": 36,
     "metadata": {},
     "output_type": "execute_result"
    },
    {
     "data": {
      "image/png": "[encoded data removed]",
      "text/plain": [
       "<Figure size 1000x600 with 1 Axes>"
      ]
     },
     "metadata": {},
     "output_type": "display_data"
    }
   ],
   "source": [
    "#Create a plot for crosstab\n",
    "\n",
    "pd.crosstab(attrdata['Function'],attrdata['Stay/Left']).plot(kind=\"bar\",figsize=(10,6))\n",
    "plt.title(\"Stay/Left vs Function\")\n",
    "plt.xlabel(\"Stay/Left\")\n",
    "plt.ylabel(\"No. of people who left/stay based on function of organization\")\n",
    "plt.legend([\"Left\",\"Stay\"])\n",
    "plt.xticks(rotation=0)"
   ]
  },
  {
   "cell_type": "markdown",
   "id": "1496e875",
   "metadata": {},
   "source": [
    "Here, in the chart, we can see that the maximum number of employees are in the operation section and a high number of employees in the same section are staying in the company.\n",
    "\n",
    "**Hiring (Direct/ Agency/ Employee referral)**"
   ]
  },
  {
   "cell_type": "code",
   "execution_count": 37,
   "id": "e71ea6f4",
   "metadata": {},
   "outputs": [
    {
     "data": {
      "text/plain": [
       "Hiring Source\n",
       "Direct               709\n",
       "Agency               116\n",
       "Employee Referral     71\n",
       "Name: count, dtype: int64"
      ]
     },
     "execution_count": 37,
     "metadata": {},
     "output_type": "execute_result"
    }
   ],
   "source": [
    "Hiring_dict = attrdata[\"Hiring Source\"].value_counts()\n",
    "Hiring_dict"
   ]
  },
  {
   "cell_type": "markdown",
   "id": "a3e5599c",
   "metadata": {},
   "source": [
    "**Marital Status (Single/ Married/ Seperated/ Div./ NTBD)**"
   ]
  },
  {
   "cell_type": "code",
   "execution_count": 38,
   "id": "dbac07bb",
   "metadata": {},
   "outputs": [
    {
     "name": "stdout",
     "output_type": "stream",
     "text": [
      "Marital Status\n",
      "Single    534\n",
      "Marr.     356\n",
      "Div.        2\n",
      "NTBD        2\n",
      "Sep.        2\n",
      "Name: count, dtype: int64\n"
     ]
    }
   ],
   "source": [
    "Marital_dict = attrdata[\"Marital Status\"].value_counts()\n",
    "print(Marital_dict)"
   ]
  },
  {
   "cell_type": "markdown",
   "id": "5391b845",
   "metadata": {},
   "source": [
    "**Employee Group**"
   ]
  },
  {
   "cell_type": "code",
   "execution_count": 40,
   "id": "f84053e6",
   "metadata": {},
   "outputs": [
    {
     "name": "stdout",
     "output_type": "stream",
     "text": [
      "Emp. Group\n",
      "B1             537\n",
      "B2             276\n",
      "B3              59\n",
      "B0               8\n",
      "B4               7\n",
      "B5               4\n",
      "B7               2\n",
      "B6               1\n",
      "C3               1\n",
      "D2               1\n",
      "other group      1\n",
      "Name: count, dtype: int64\n"
     ]
    }
   ],
   "source": [
    "Emp_Group_dict = attrdata[\"Emp. Group\"].value_counts()\n",
    "Emp_Group_dict[\"other group\"] = 1\n",
    "print(Emp_Group_dict)"
   ]
  },
  {
   "cell_type": "markdown",
   "id": "342d859a",
   "metadata": {},
   "source": [
    "**Job role match (Yes/ No)**"
   ]
  },
  {
   "cell_type": "code",
   "execution_count": 41,
   "id": "c2bb8469",
   "metadata": {},
   "outputs": [
    {
     "data": {
      "text/plain": [
       "Job Role Match\n",
       "Yes    481\n",
       "No     415\n",
       "Name: count, dtype: int64"
      ]
     },
     "execution_count": 41,
     "metadata": {},
     "output_type": "execute_result"
    }
   ],
   "source": [
    "job_dict = attrdata[\"Job Role Match\"].value_counts()\n",
    "job_dict"
   ]
  },
  {
   "cell_type": "markdown",
   "id": "8da3c80d",
   "metadata": {},
   "source": [
    "Now, we can see that majority of the employees have their correct role in Job."
   ]
  },
  {
   "cell_type": "code",
   "execution_count": 42,
   "id": "c5f47c35",
   "metadata": {},
   "outputs": [
    {
     "data": {
      "text/plain": [
       "(array([0, 1]), [Text(0, 0, 'No'), Text(1, 0, 'Yes')])"
      ]
     },
     "execution_count": 42,
     "metadata": {},
     "output_type": "execute_result"
    },
    {
     "data": {
      "image/png": "[encoded data removed]",
      "text/plain": [
       "<Figure size 1000x600 with 1 Axes>"
      ]
     },
     "metadata": {},
     "output_type": "display_data"
    }
   ],
   "source": [
    "#Create a plot for crosstab\n",
    "\n",
    "pd.crosstab(attrdata['Job Role Match'],attrdata['Stay/Left']).plot(kind=\"bar\",figsize=(10,6))\n",
    "plt.title(\"Stay/Left vs Job Role Match\")\n",
    "plt.xlabel(\"Stay/Left\")\n",
    "plt.legend([\"Left\",\"Stay\"])\n",
    "plt.xticks(rotation=0)"
   ]
  },
  {
   "cell_type": "markdown",
   "id": "9e9c3ba6",
   "metadata": {},
   "source": [
    "Here, in the above chart, we can see that the number of employees who got the correct job role is staying in the company rather than the ones who don’t have their right job role.\n",
    "\n",
    "**Tenure group**"
   ]
  },
  {
   "cell_type": "code",
   "execution_count": 43,
   "id": "b660e601",
   "metadata": {},
   "outputs": [
    {
     "name": "stdout",
     "output_type": "stream",
     "text": [
      "Tenure Grp.\n",
      "> 1 & < =3    626\n",
      "< =1          270\n",
      "Name: count, dtype: int64\n"
     ]
    }
   ],
   "source": [
    "tenure_dict = attrdata[\"Tenure Grp.\"].value_counts()\n",
    "print(tenure_dict)"
   ]
  },
  {
   "cell_type": "markdown",
   "id": "a3ef22f5",
   "metadata": {},
   "source": [
    "**Now let’s visualize some continuous data**"
   ]
  },
  {
   "cell_type": "code",
   "execution_count": 44,
   "id": "ccbaf33c",
   "metadata": {},
   "outputs": [
    {
     "data": {
      "text/plain": [
       "<seaborn.axisgrid.JointGrid at 0x2a70dddb770>"
      ]
     },
     "execution_count": 44,
     "metadata": {},
     "output_type": "execute_result"
    },
    {
     "data": {
      "image/png": "[encoded data removed]",
      "text/plain": [
       "<Figure size 600x600 with 3 Axes>"
      ]
     },
     "metadata": {},
     "output_type": "display_data"
    }
   ],
   "source": [
    "# Its Age vs stay/left\n",
    "sns.jointplot(x='Stay/Left',y='Age in YY.',data=attrdata)"
   ]
  },
  {
   "cell_type": "markdown",
   "id": "81813fc2",
   "metadata": {},
   "source": [
    "In the above graph, we can see that the ones who are having more age are staying back in the company rather than the ones who have comparatively less age."
   ]
  },
  {
   "cell_type": "code",
   "execution_count": null,
   "id": "98e16be0",
   "metadata": {},
   "outputs": [],
   "source": []
  }
 ],
 "metadata": {
  "kernelspec": {
   "display_name": "Python 3",
   "language": "python",
   "name": "python3"
  },
  "language_info": {
   "codemirror_mode": {
    "name": "ipython",
    "version": 3
   },
   "file_extension": ".py",
   "mimetype": "text/x-python",
   "name": "python",
   "nbconvert_exporter": "python",
   "pygments_lexer": "ipython3",
   "version": "3.13.5"
  }
 },
 "nbformat": 4,
 "nbformat_minor": 5
}
