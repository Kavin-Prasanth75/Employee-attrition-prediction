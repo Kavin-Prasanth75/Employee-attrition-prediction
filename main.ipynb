{
 "cells": [
  {
   "cell_type": "markdown",
   "id": "12543911",
   "metadata": {},
   "source": [
    "**Need of Employee Attrition prediction**\n",
    "\n",
    "1. **Managing workforce**: If the supervisors or HR came to know about some employees that they will be planning to leave the company then they could get in touch with those employees which can help them to stay back or they can manage the workforce by hiring the new alternative of those employees.\n",
    "\n",
    "\n",
    "2. **Smooth pipeline**: If all the employees in the current project are working continuously on a project then the pipeline of that project will be smooth but if suppose one efficient asset of the project(employee) suddenly leave that company then the workflow will be not so smooth.\n",
    "\n",
    "\n",
    "3. **Hiring Management**: If HR of one particular project came to know about the employee who is willing to leave the company then he/she can manage the number of hiring and they can get the valuable asset whenever they need so for the efficient flow of work."
   ]
  },
  {
   "cell_type": "markdown",
   "id": "93e7ed48",
   "metadata": {},
   "source": [
    "# IMPORTING LIBRARIES"
   ]
  },
  {
   "cell_type": "code",
   "execution_count": 1,
   "id": "5cc15c56",
   "metadata": {},
   "outputs": [],
   "source": [
    "import pandas as pd\n",
    "import numpy as np\n",
    "import matplotlib.pyplot as plt\n",
    "import seaborn as sns\n",
    "from sklearn.model_selection import train_test_split\n",
    "from sklearn.metrics import confusion_matrix\n",
    "from sklearn import datasets\n",
    "from sklearn.metrics import accuracy_score\n",
    "import warnings\n",
    "warnings.filterwarnings(\"ignore\")"
   ]
  },
  {
   "cell_type": "code",
   "execution_count": 2,
   "id": "0b1204fa",
   "metadata": {},
   "outputs": [],
   "source": [
    "## Reading the dataset\n",
    "attrdata = pd.read_csv(\"./data/data.csv\")"
   ]
  },
  {
   "cell_type": "code",
   "execution_count": 3,
   "id": "b558df25",
   "metadata": {},
   "outputs": [
    {
     "data": {
      "text/html": [
       "<div>\n",
       "<style scoped>\n",
       "    .dataframe tbody tr th:only-of-type {\n",
       "        vertical-align: middle;\n",
       "    }\n",
       "\n",
       "    .dataframe tbody tr th {\n",
       "        vertical-align: top;\n",
       "    }\n",
       "\n",
       "    .dataframe thead th {\n",
       "        text-align: right;\n",
       "    }\n",
       "</style>\n",
       "<table border=\"1\" class=\"dataframe\">\n",
       "  <thead>\n",
       "    <tr style=\"text-align: right;\">\n",
       "      <th></th>\n",
       "      <th>table id</th>\n",
       "      <th>name</th>\n",
       "      <th>phone number</th>\n",
       "      <th>Location</th>\n",
       "      <th>Emp. Group</th>\n",
       "      <th>Function</th>\n",
       "      <th>Gender</th>\n",
       "      <th>Tenure</th>\n",
       "      <th>Tenure Grp.</th>\n",
       "      <th>Experience (YY.MM)</th>\n",
       "      <th>Marital Status</th>\n",
       "      <th>Age in YY.</th>\n",
       "      <th>Hiring Source</th>\n",
       "      <th>Promoted/Non Promoted</th>\n",
       "      <th>Job Role Match</th>\n",
       "      <th>Stay/Left</th>\n",
       "    </tr>\n",
       "  </thead>\n",
       "  <tbody>\n",
       "    <tr>\n",
       "      <th>0</th>\n",
       "      <td>1</td>\n",
       "      <td>sid</td>\n",
       "      <td>9876544345</td>\n",
       "      <td>Pune</td>\n",
       "      <td>B2</td>\n",
       "      <td>Operation</td>\n",
       "      <td>Male</td>\n",
       "      <td>0.00</td>\n",
       "      <td>&lt; =1</td>\n",
       "      <td>6.08</td>\n",
       "      <td>Single</td>\n",
       "      <td>27.12</td>\n",
       "      <td>Direct</td>\n",
       "      <td>Non Promoted</td>\n",
       "      <td>Yes</td>\n",
       "      <td>Left</td>\n",
       "    </tr>\n",
       "    <tr>\n",
       "      <th>1</th>\n",
       "      <td>2</td>\n",
       "      <td>sid</td>\n",
       "      <td>9876544345</td>\n",
       "      <td>Noida</td>\n",
       "      <td>B7</td>\n",
       "      <td>Support</td>\n",
       "      <td>Male</td>\n",
       "      <td>0.00</td>\n",
       "      <td>&lt; =1</td>\n",
       "      <td>13.00</td>\n",
       "      <td>Marr.</td>\n",
       "      <td>38.08</td>\n",
       "      <td>Direct</td>\n",
       "      <td>Promoted</td>\n",
       "      <td>No</td>\n",
       "      <td>Stay</td>\n",
       "    </tr>\n",
       "    <tr>\n",
       "      <th>2</th>\n",
       "      <td>3</td>\n",
       "      <td>sid</td>\n",
       "      <td>9876544345</td>\n",
       "      <td>Bangalore</td>\n",
       "      <td>B3</td>\n",
       "      <td>Operation</td>\n",
       "      <td>Male</td>\n",
       "      <td>0.01</td>\n",
       "      <td>&lt; =1</td>\n",
       "      <td>16.05</td>\n",
       "      <td>Marr.</td>\n",
       "      <td>36.04</td>\n",
       "      <td>Direct</td>\n",
       "      <td>Promoted</td>\n",
       "      <td>Yes</td>\n",
       "      <td>Stay</td>\n",
       "    </tr>\n",
       "    <tr>\n",
       "      <th>3</th>\n",
       "      <td>4</td>\n",
       "      <td>sid</td>\n",
       "      <td>9876544345</td>\n",
       "      <td>Noida</td>\n",
       "      <td>B2</td>\n",
       "      <td>Operation</td>\n",
       "      <td>Male</td>\n",
       "      <td>0.01</td>\n",
       "      <td>&lt; =1</td>\n",
       "      <td>6.06</td>\n",
       "      <td>Marr.</td>\n",
       "      <td>32.07</td>\n",
       "      <td>Direct</td>\n",
       "      <td>Promoted</td>\n",
       "      <td>Yes</td>\n",
       "      <td>Stay</td>\n",
       "    </tr>\n",
       "    <tr>\n",
       "      <th>4</th>\n",
       "      <td>5</td>\n",
       "      <td>sid</td>\n",
       "      <td>9876544345</td>\n",
       "      <td>Lucknow</td>\n",
       "      <td>B2</td>\n",
       "      <td>Operation</td>\n",
       "      <td>Male</td>\n",
       "      <td>0.00</td>\n",
       "      <td>&lt; =1</td>\n",
       "      <td>7.00</td>\n",
       "      <td>Marr.</td>\n",
       "      <td>32.05</td>\n",
       "      <td>Direct</td>\n",
       "      <td>Non Promoted</td>\n",
       "      <td>Yes</td>\n",
       "      <td>Stay</td>\n",
       "    </tr>\n",
       "  </tbody>\n",
       "</table>\n",
       "</div>"
      ],
      "text/plain": [
       "   table id name  phone number   Location Emp. Group   Function Gender   \\\n",
       "0         1  sid    9876544345       Pune         B2  Operation    Male   \n",
       "1         2  sid    9876544345      Noida         B7    Support    Male   \n",
       "2         3  sid    9876544345  Bangalore         B3  Operation    Male   \n",
       "3         4  sid    9876544345      Noida         B2  Operation    Male   \n",
       "4         5  sid    9876544345    Lucknow         B2  Operation    Male   \n",
       "\n",
       "   Tenure Tenure Grp.  Experience (YY.MM) Marital Status  Age in YY.  \\\n",
       "0    0.00        < =1                6.08         Single       27.12   \n",
       "1    0.00        < =1               13.00          Marr.       38.08   \n",
       "2    0.01        < =1               16.05          Marr.       36.04   \n",
       "3    0.01        < =1                6.06          Marr.       32.07   \n",
       "4    0.00        < =1                7.00          Marr.       32.05   \n",
       "\n",
       "  Hiring Source Promoted/Non Promoted Job Role Match Stay/Left  \n",
       "0        Direct          Non Promoted            Yes      Left  \n",
       "1        Direct              Promoted             No      Stay  \n",
       "2        Direct              Promoted            Yes      Stay  \n",
       "3        Direct              Promoted            Yes      Stay  \n",
       "4        Direct          Non Promoted            Yes      Stay  "
      ]
     },
     "execution_count": 3,
     "metadata": {},
     "output_type": "execute_result"
    }
   ],
   "source": [
    "attrdata.head()"
   ]
  },
  {
   "cell_type": "markdown",
   "id": "b3eb3133",
   "metadata": {},
   "source": [
    "# DATA EXPLORATION"
   ]
  },
  {
   "cell_type": "code",
   "execution_count": 4,
   "id": "3fd5405b",
   "metadata": {},
   "outputs": [
    {
     "data": {
      "text/plain": [
       "table id  name   phone number  Location    Emp. Group  Function   Gender   Tenure  Tenure Grp.  Experience (YY.MM)  Marital Status  Age in YY.  Hiring Source  Promoted/Non Promoted  Job Role Match  Stay/Left\n",
       "1         sid    9876544345    Pune        B2          Operation  Male     0.00    < =1         6.08                Single          27.12       Direct         Non Promoted           Yes             Left         1\n",
       "2         sid    9876544345    Noida       B7          Support    Male     0.00    < =1         13.00               Marr.           38.08       Direct         Promoted               No              Stay         1\n",
       "3         sid    9876544345    Bangalore   B3          Operation  Male     0.01    < =1         16.05               Marr.           36.04       Direct         Promoted               Yes             Stay         1\n",
       "4         sid    9876544345    Noida       B2          Operation  Male     0.01    < =1         6.06                Marr.           32.07       Direct         Promoted               Yes             Stay         1\n",
       "5         sid    9876544345    Lucknow     B2          Operation  Male     0.00    < =1         7.00                Marr.           32.05       Direct         Non Promoted           Yes             Stay         1\n",
       "                                                                                                                                                                                                                  ..\n",
       "897       Rahul  9876544345    Vijayawada  B1          Operation  Male     0.03    < =1         0.03                Single          24.06       Direct         Non Promoted           Yes             Stay         1\n",
       "898       Rahul  9876544345    Vijayawada  B1          Operation  Female   0.03    < =1         0.03                Single          21.09       Direct         Non Promoted           Yes             Stay         1\n",
       "899       Rahul  9876544345    Vijayawada  B1          Operation  Female   0.03    < =1         0.03                Single          22.02       Direct         Non Promoted           Yes             Left         1\n",
       "901       Rahul  9876544345    Vijayawada  B1          Operation  Female   0.03    < =1         0.03                Single          22.02       Direct         Non Promoted           Yes             Stay         1\n",
       "902       Rahul  9876544345    Madurai     B2          Operation  Male     0.02    < =1         10.02               Marr.           32.08       Direct         Non Promoted           No              Stay         1\n",
       "Name: count, Length: 896, dtype: int64"
      ]
     },
     "execution_count": 4,
     "metadata": {},
     "output_type": "execute_result"
    }
   ],
   "source": [
    "attrdata.value_counts()"
   ]
  },
  {
   "cell_type": "code",
   "execution_count": 5,
   "id": "7ea31887",
   "metadata": {},
   "outputs": [
    {
     "data": {
      "text/plain": [
       "(902, 16)"
      ]
     },
     "execution_count": 5,
     "metadata": {},
     "output_type": "execute_result"
    }
   ],
   "source": [
    "attrdata.shape"
   ]
  },
  {
   "cell_type": "code",
   "execution_count": 6,
   "id": "6e8c51cf",
   "metadata": {},
   "outputs": [
    {
     "data": {
      "text/html": [
       "<div>\n",
       "<style scoped>\n",
       "    .dataframe tbody tr th:only-of-type {\n",
       "        vertical-align: middle;\n",
       "    }\n",
       "\n",
       "    .dataframe tbody tr th {\n",
       "        vertical-align: top;\n",
       "    }\n",
       "\n",
       "    .dataframe thead th {\n",
       "        text-align: right;\n",
       "    }\n",
       "</style>\n",
       "<table border=\"1\" class=\"dataframe\">\n",
       "  <thead>\n",
       "    <tr style=\"text-align: right;\">\n",
       "      <th></th>\n",
       "      <th>table id</th>\n",
       "      <th>phone number</th>\n",
       "      <th>Tenure</th>\n",
       "      <th>Experience (YY.MM)</th>\n",
       "      <th>Age in YY.</th>\n",
       "    </tr>\n",
       "  </thead>\n",
       "  <tbody>\n",
       "    <tr>\n",
       "      <th>count</th>\n",
       "      <td>902.000000</td>\n",
       "      <td>9.020000e+02</td>\n",
       "      <td>902.000000</td>\n",
       "      <td>898.000000</td>\n",
       "      <td>902.000000</td>\n",
       "    </tr>\n",
       "    <tr>\n",
       "      <th>mean</th>\n",
       "      <td>451.500000</td>\n",
       "      <td>9.876544e+09</td>\n",
       "      <td>1.198293</td>\n",
       "      <td>5.150457</td>\n",
       "      <td>29.055288</td>\n",
       "    </tr>\n",
       "    <tr>\n",
       "      <th>std</th>\n",
       "      <td>260.529269</td>\n",
       "      <td>0.000000e+00</td>\n",
       "      <td>0.823203</td>\n",
       "      <td>3.483456</td>\n",
       "      <td>4.499554</td>\n",
       "    </tr>\n",
       "    <tr>\n",
       "      <th>min</th>\n",
       "      <td>1.000000</td>\n",
       "      <td>9.876544e+09</td>\n",
       "      <td>0.000000</td>\n",
       "      <td>0.030000</td>\n",
       "      <td>21.050000</td>\n",
       "    </tr>\n",
       "    <tr>\n",
       "      <th>25%</th>\n",
       "      <td>226.250000</td>\n",
       "      <td>9.876544e+09</td>\n",
       "      <td>0.110000</td>\n",
       "      <td>2.100000</td>\n",
       "      <td>26.050000</td>\n",
       "    </tr>\n",
       "    <tr>\n",
       "      <th>50%</th>\n",
       "      <td>451.500000</td>\n",
       "      <td>9.876544e+09</td>\n",
       "      <td>1.060000</td>\n",
       "      <td>4.110000</td>\n",
       "      <td>28.060000</td>\n",
       "    </tr>\n",
       "    <tr>\n",
       "      <th>75%</th>\n",
       "      <td>676.750000</td>\n",
       "      <td>9.876544e+09</td>\n",
       "      <td>2.040000</td>\n",
       "      <td>7.027500</td>\n",
       "      <td>31.070000</td>\n",
       "    </tr>\n",
       "    <tr>\n",
       "      <th>max</th>\n",
       "      <td>902.000000</td>\n",
       "      <td>9.876544e+09</td>\n",
       "      <td>3.000000</td>\n",
       "      <td>25.080000</td>\n",
       "      <td>52.060000</td>\n",
       "    </tr>\n",
       "  </tbody>\n",
       "</table>\n",
       "</div>"
      ],
      "text/plain": [
       "         table id  phone number      Tenure  Experience (YY.MM)  Age in YY.\n",
       "count  902.000000  9.020000e+02  902.000000          898.000000  902.000000\n",
       "mean   451.500000  9.876544e+09    1.198293            5.150457   29.055288\n",
       "std    260.529269  0.000000e+00    0.823203            3.483456    4.499554\n",
       "min      1.000000  9.876544e+09    0.000000            0.030000   21.050000\n",
       "25%    226.250000  9.876544e+09    0.110000            2.100000   26.050000\n",
       "50%    451.500000  9.876544e+09    1.060000            4.110000   28.060000\n",
       "75%    676.750000  9.876544e+09    2.040000            7.027500   31.070000\n",
       "max    902.000000  9.876544e+09    3.000000           25.080000   52.060000"
      ]
     },
     "execution_count": 6,
     "metadata": {},
     "output_type": "execute_result"
    }
   ],
   "source": [
    "attrdata.describe()"
   ]
  },
  {
   "cell_type": "markdown",
   "id": "3f81600c",
   "metadata": {},
   "source": [
    "#### Droping index column since both index and table_id does the same job\n"
   ]
  },
  {
   "cell_type": "code",
   "execution_count": 23,
   "id": "dc241571",
   "metadata": {},
   "outputs": [
    {
     "data": {
      "text/html": [
       "<div>\n",
       "<style scoped>\n",
       "    .dataframe tbody tr th:only-of-type {\n",
       "        vertical-align: middle;\n",
       "    }\n",
       "\n",
       "    .dataframe tbody tr th {\n",
       "        vertical-align: top;\n",
       "    }\n",
       "\n",
       "    .dataframe thead th {\n",
       "        text-align: right;\n",
       "    }\n",
       "</style>\n",
       "<table border=\"1\" class=\"dataframe\">\n",
       "  <thead>\n",
       "    <tr style=\"text-align: right;\">\n",
       "      <th></th>\n",
       "      <th>table id</th>\n",
       "      <th>name</th>\n",
       "      <th>phone number</th>\n",
       "      <th>Location</th>\n",
       "      <th>Emp. Group</th>\n",
       "      <th>Function</th>\n",
       "      <th>Gender</th>\n",
       "      <th>Tenure</th>\n",
       "      <th>Tenure Grp.</th>\n",
       "      <th>Experience (YY.MM)</th>\n",
       "      <th>Marital Status</th>\n",
       "      <th>Age in YY.</th>\n",
       "      <th>Hiring Source</th>\n",
       "      <th>Promoted/Non Promoted</th>\n",
       "      <th>Job Role Match</th>\n",
       "      <th>Stay/Left</th>\n",
       "    </tr>\n",
       "  </thead>\n",
       "  <tbody>\n",
       "    <tr>\n",
       "      <th>0</th>\n",
       "      <td>1</td>\n",
       "      <td>sid</td>\n",
       "      <td>9876544345</td>\n",
       "      <td>Pune</td>\n",
       "      <td>B2</td>\n",
       "      <td>Operation</td>\n",
       "      <td>Male</td>\n",
       "      <td>0.00</td>\n",
       "      <td>&lt; =1</td>\n",
       "      <td>6.08</td>\n",
       "      <td>Single</td>\n",
       "      <td>27.12</td>\n",
       "      <td>Direct</td>\n",
       "      <td>Non Promoted</td>\n",
       "      <td>Yes</td>\n",
       "      <td>Left</td>\n",
       "    </tr>\n",
       "    <tr>\n",
       "      <th>1</th>\n",
       "      <td>2</td>\n",
       "      <td>sid</td>\n",
       "      <td>9876544345</td>\n",
       "      <td>Noida</td>\n",
       "      <td>B7</td>\n",
       "      <td>Support</td>\n",
       "      <td>Male</td>\n",
       "      <td>0.00</td>\n",
       "      <td>&lt; =1</td>\n",
       "      <td>13.00</td>\n",
       "      <td>Marr.</td>\n",
       "      <td>38.08</td>\n",
       "      <td>Direct</td>\n",
       "      <td>Promoted</td>\n",
       "      <td>No</td>\n",
       "      <td>Stay</td>\n",
       "    </tr>\n",
       "    <tr>\n",
       "      <th>2</th>\n",
       "      <td>3</td>\n",
       "      <td>sid</td>\n",
       "      <td>9876544345</td>\n",
       "      <td>Bangalore</td>\n",
       "      <td>B3</td>\n",
       "      <td>Operation</td>\n",
       "      <td>Male</td>\n",
       "      <td>0.01</td>\n",
       "      <td>&lt; =1</td>\n",
       "      <td>16.05</td>\n",
       "      <td>Marr.</td>\n",
       "      <td>36.04</td>\n",
       "      <td>Direct</td>\n",
       "      <td>Promoted</td>\n",
       "      <td>Yes</td>\n",
       "      <td>Stay</td>\n",
       "    </tr>\n",
       "    <tr>\n",
       "      <th>3</th>\n",
       "      <td>4</td>\n",
       "      <td>sid</td>\n",
       "      <td>9876544345</td>\n",
       "      <td>Noida</td>\n",
       "      <td>B2</td>\n",
       "      <td>Operation</td>\n",
       "      <td>Male</td>\n",
       "      <td>0.01</td>\n",
       "      <td>&lt; =1</td>\n",
       "      <td>6.06</td>\n",
       "      <td>Marr.</td>\n",
       "      <td>32.07</td>\n",
       "      <td>Direct</td>\n",
       "      <td>Promoted</td>\n",
       "      <td>Yes</td>\n",
       "      <td>Stay</td>\n",
       "    </tr>\n",
       "    <tr>\n",
       "      <th>4</th>\n",
       "      <td>5</td>\n",
       "      <td>sid</td>\n",
       "      <td>9876544345</td>\n",
       "      <td>Lucknow</td>\n",
       "      <td>B2</td>\n",
       "      <td>Operation</td>\n",
       "      <td>Male</td>\n",
       "      <td>0.00</td>\n",
       "      <td>&lt; =1</td>\n",
       "      <td>7.00</td>\n",
       "      <td>Marr.</td>\n",
       "      <td>32.05</td>\n",
       "      <td>Direct</td>\n",
       "      <td>Non Promoted</td>\n",
       "      <td>Yes</td>\n",
       "      <td>Stay</td>\n",
       "    </tr>\n",
       "  </tbody>\n",
       "</table>\n",
       "</div>"
      ],
      "text/plain": [
       "   table id name  phone number   Location Emp. Group   Function Gender   \\\n",
       "0         1  sid    9876544345       Pune         B2  Operation    Male   \n",
       "1         2  sid    9876544345      Noida         B7    Support    Male   \n",
       "2         3  sid    9876544345  Bangalore         B3  Operation    Male   \n",
       "3         4  sid    9876544345      Noida         B2  Operation    Male   \n",
       "4         5  sid    9876544345    Lucknow         B2  Operation    Male   \n",
       "\n",
       "   Tenure Tenure Grp.  Experience (YY.MM) Marital Status  Age in YY.  \\\n",
       "0    0.00        < =1                6.08         Single       27.12   \n",
       "1    0.00        < =1               13.00          Marr.       38.08   \n",
       "2    0.01        < =1               16.05          Marr.       36.04   \n",
       "3    0.01        < =1                6.06          Marr.       32.07   \n",
       "4    0.00        < =1                7.00          Marr.       32.05   \n",
       "\n",
       "  Hiring Source Promoted/Non Promoted Job Role Match Stay/Left  \n",
       "0        Direct          Non Promoted            Yes      Left  \n",
       "1        Direct              Promoted             No      Stay  \n",
       "2        Direct              Promoted            Yes      Stay  \n",
       "3        Direct              Promoted            Yes      Stay  \n",
       "4        Direct          Non Promoted            Yes      Stay  "
      ]
     },
     "execution_count": 23,
     "metadata": {},
     "output_type": "execute_result"
    }
   ],
   "source": [
    "attrdata.reset_index(drop=True, inplace=True)\n",
    "# Drop the index column if it is not needed\n",
    "attrdata.head()"
   ]
  },
  {
   "cell_type": "code",
   "execution_count": 24,
   "id": "b722c273",
   "metadata": {},
   "outputs": [
    {
     "data": {
      "text/plain": [
       "table id                 0\n",
       "name                     0\n",
       "phone number             0\n",
       "Location                 0\n",
       "Emp. Group               0\n",
       "Function                 0\n",
       "Gender                   0\n",
       "Tenure                   0\n",
       "Tenure Grp.              0\n",
       "Experience (YY.MM)       0\n",
       "Marital Status           0\n",
       "Age in YY.               0\n",
       "Hiring Source            0\n",
       "Promoted/Non Promoted    0\n",
       "Job Role Match           0\n",
       "Stay/Left                0\n",
       "dtype: int64"
      ]
     },
     "execution_count": 24,
     "metadata": {},
     "output_type": "execute_result"
    }
   ],
   "source": [
    "attrdata.isnull().sum()"
   ]
  },
  {
   "cell_type": "code",
   "execution_count": 25,
   "id": "14233e82",
   "metadata": {},
   "outputs": [
    {
     "data": {
      "text/plain": [
       "(896, 16)"
      ]
     },
     "execution_count": 25,
     "metadata": {},
     "output_type": "execute_result"
    }
   ],
   "source": [
    "attrdata.shape"
   ]
  },
  {
   "cell_type": "code",
   "execution_count": 26,
   "id": "4b1b85c2",
   "metadata": {},
   "outputs": [
    {
     "name": "stdout",
     "output_type": "stream",
     "text": [
      "Number of rows with null values in both 'Experience (YY.MM)' and 'Job Role Match': 0\n"
     ]
    }
   ],
   "source": [
    "mask = attrdata['Experience (YY.MM)'].isnull() & attrdata['Job Role Match'].isnull()\n",
    "num_rows = mask.sum()\n",
    "print(f\"Number of rows with null values in both 'Experience (YY.MM)' and 'Job Role Match': {num_rows}\")"
   ]
  },
  {
   "cell_type": "markdown",
   "id": "fda0255e",
   "metadata": {},
   "source": [
    "So , there are 6 rows which are having null values , lets remove them"
   ]
  },
  {
   "cell_type": "code",
   "execution_count": 27,
   "id": "0ab71ec2",
   "metadata": {},
   "outputs": [
    {
     "data": {
      "text/plain": [
       "(896, 16)"
      ]
     },
     "execution_count": 27,
     "metadata": {},
     "output_type": "execute_result"
    }
   ],
   "source": [
    "attrdata.dropna(axis=0,inplace=True)\n",
    "attrdata.shape"
   ]
  },
  {
   "cell_type": "markdown",
   "id": "2fa652bd",
   "metadata": {},
   "source": [
    "**Let’s explore all the categorical values and visualize them**\n",
    "\n",
    "Now, we will use the **value_counts** function so that we can get the **unique values** from every **categorical type of data.**"
   ]
  },
  {
   "cell_type": "markdown",
   "id": "9b41b2b0",
   "metadata": {},
   "source": [
    "**Gender**"
   ]
  },
  {
   "cell_type": "code",
   "execution_count": 28,
   "id": "8fccf88b",
   "metadata": {},
   "outputs": [
    {
     "data": {
      "text/plain": [
       "Gender \n",
       "Male      656\n",
       "Female    234\n",
       "other       6\n",
       "Name: count, dtype: int64"
      ]
     },
     "execution_count": 28,
     "metadata": {},
     "output_type": "execute_result"
    }
   ],
   "source": [
    "gender_counts = attrdata['Gender '].value_counts()\n",
    "gender_counts"
   ]
  },
  {
   "cell_type": "markdown",
   "id": "97bf8a3b",
   "metadata": {},
   "source": [
    "**Understanding the balancing of the Gender column visually**"
   ]
  },
  {
   "cell_type": "code",
   "execution_count": 29,
   "id": "c163db69",
   "metadata": {},
   "outputs": [
    {
     "data": {
      "text/plain": [
       "<Axes: title={'center': 'Count of different gender'}, xlabel='Gender '>"
      ]
     },
     "execution_count": 29,
     "metadata": {},
     "output_type": "execute_result"
    },
    {
     "data": {
      "image/png": "[encoded data removed]",
      "text/plain": [
       "<Figure size 640x480 with 1 Axes>"
      ]
     },
     "metadata": {},
     "output_type": "display_data"
    }
   ],
   "source": [
    "attrdata['Gender '].value_counts().plot(kind='bar',color=['salmon','lightblue'],title=\"Count of different gender\")"
   ]
  },
  {
   "cell_type": "markdown",
   "id": "a548d61d",
   "metadata": {},
   "source": [
    "Here, from the chart, it’s visible that the count of males is more than another category of the gender.\n",
    "\n",
    "**Now, let’s figure out that how gender could be the reason for employees to leave the company or to stay in.**"
   ]
  },
  {
   "cell_type": "code",
   "execution_count": 30,
   "id": "73e70bd9",
   "metadata": {},
   "outputs": [
    {
     "data": {
      "text/plain": [
       "(array([0, 1, 2]),\n",
       " [Text(0, 0, 'Female'), Text(1, 0, 'Male'), Text(2, 0, 'other')])"
      ]
     },
     "execution_count": 30,
     "metadata": {},
     "output_type": "execute_result"
    },
    {
     "data": {
      "image/png": "[encoded data removed]",
      "text/plain": [
       "<Figure size 1000x600 with 1 Axes>"
      ]
     },
     "metadata": {},
     "output_type": "display_data"
    }
   ],
   "source": [
    "#Create a plot for crosstab\n",
    "\n",
    "pd.crosstab(attrdata['Gender '],attrdata['Stay/Left']).plot(kind=\"bar\",figsize=(10,6))\n",
    "plt.title(\"Stay/Left vs Gender\")\n",
    "plt.xlabel(\"Stay/Left\")\n",
    "plt.ylabel(\"No of people who left based on gender\")\n",
    "plt.legend([\"Left\",\"Stay\"])\n",
    "plt.xticks(rotation=0)"
   ]
  },
  {
   "cell_type": "markdown",
   "id": "8ec4b6b1",
   "metadata": {},
   "source": [
    "Here, from the chart it’s visible that it heavily depends on males, also we can see that it’s either male, female or others but more number of them are staying in the company.\n",
    "\n",
    "\n",
    "**Promotion (Promoted/ Non-Promoted)**"
   ]
  },
  {
   "cell_type": "code",
   "execution_count": 31,
   "id": "de8b81a2",
   "metadata": {},
   "outputs": [
    {
     "data": {
      "text/plain": [
       "Promoted/Non Promoted\n",
       "Promoted        457\n",
       "Non Promoted    439\n",
       "Name: count, dtype: int64"
      ]
     },
     "execution_count": 31,
     "metadata": {},
     "output_type": "execute_result"
    }
   ],
   "source": [
    "promoted_dict = attrdata[\"Promoted/Non Promoted\"].value_counts()\n",
    "promoted_dict"
   ]
  },
  {
   "cell_type": "code",
   "execution_count": 32,
   "id": "992238ad",
   "metadata": {},
   "outputs": [
    {
     "data": {
      "text/plain": [
       "<Axes: title={'center': 'Promoted and Non Promoted'}, xlabel='Promoted/Non Promoted'>"
      ]
     },
     "execution_count": 32,
     "metadata": {},
     "output_type": "execute_result"
    },
    {
     "data": {
      "image/png": "[encoded data removed]",
      "text/plain": [
       "<Figure size 640x480 with 1 Axes>"
      ]
     },
     "metadata": {},
     "output_type": "display_data"
    }
   ],
   "source": [
    "attrdata['Promoted/Non Promoted'].value_counts().plot(kind='bar',color=['salmon','lightblue'],title=\"Promoted and Non Promoted\")"
   ]
  },
  {
   "cell_type": "markdown",
   "id": "4b6c0cb3",
   "metadata": {},
   "source": [
    "Now, from the above chart, we can see that when it comes to Promoted and Non-Promoted employees it’s quiet in balanced number.\n",
    "\n",
    "**Now, let’s figure out that how promotion could be the reason for employees to leave the company or to stay in.**"
   ]
  },
  {
   "cell_type": "code",
   "execution_count": 33,
   "id": "bf600018",
   "metadata": {},
   "outputs": [
    {
     "data": {
      "text/plain": [
       "(array([0, 1]), [Text(0, 0, 'Non Promoted'), Text(1, 0, 'Promoted')])"
      ]
     },
     "execution_count": 33,
     "metadata": {},
     "output_type": "execute_result"
    },
    {
     "data": {
      "image/png": "[encoded data removed]",
      "text/plain": [
       "<Figure size 1000x600 with 1 Axes>"
      ]
     },
     "metadata": {},
     "output_type": "display_data"
    }
   ],
   "source": [
    "#Create a plot for crosstab\n",
    "\n",
    "pd.crosstab(attrdata['Promoted/Non Promoted'],attrdata['Stay/Left']).plot(kind=\"bar\",figsize=(10,6))\n",
    "plt.title(\"Stay/Left vs Promoted/Non Promoted\")\n",
    "plt.xlabel(\"Stay/Left\")\n",
    "plt.ylabel(\"No. of people who left/stay based on promotion\")\n",
    "plt.legend([\"Left\",\"Stay\"])\n",
    "plt.xticks(rotation=0)"
   ]
  },
  {
   "cell_type": "markdown",
   "id": "45ad1700",
   "metadata": {},
   "source": [
    "Here, from the chart, it’s visible that the ones who are not promoted are leaving the company more as compared to the ones who are promoted which is also an obvious thing likely to happen.\n",
    "\n",
    "**Function (Operation/ Support/ Sales)**"
   ]
  },
  {
   "cell_type": "code",
   "execution_count": 34,
   "id": "dc401ef7",
   "metadata": {},
   "outputs": [
    {
     "data": {
      "text/plain": [
       "Function\n",
       "Operation    832\n",
       "Support       52\n",
       "Sales         12\n",
       "Name: count, dtype: int64"
      ]
     },
     "execution_count": 34,
     "metadata": {},
     "output_type": "execute_result"
    }
   ],
   "source": [
    "func_dict = attrdata[\"Function\"].value_counts()\n",
    "func_dict"
   ]
  },
  {
   "cell_type": "code",
   "execution_count": 35,
   "id": "f0556522",
   "metadata": {},
   "outputs": [
    {
     "data": {
      "text/plain": [
       "<Axes: title={'center': 'Functions in organization'}, xlabel='Function'>"
      ]
     },
     "execution_count": 35,
     "metadata": {},
     "output_type": "execute_result"
    },
    {
     "data": {
      "image/png": "[encoded data removed]",
      "text/plain": [
       "<Figure size 640x480 with 1 Axes>"
      ]
     },
     "metadata": {},
     "output_type": "display_data"
    }
   ],
   "source": [
    "attrdata['Function'].value_counts().plot(kind='bar',color=['salmon','lightblue'],title=\"Functions in organization\")"
   ]
  },
  {
   "cell_type": "markdown",
   "id": "162145fb",
   "metadata": {},
   "source": [
    "Now, we can see that majority of the function performed by employees are Operation itself then support and at the last it’s sales.\n",
    "\n",
    "**Now, let’s figure out that how function could be the reason for employees to leave the company or to stay in.**"
   ]
  },
  {
   "cell_type": "code",
   "execution_count": 36,
   "id": "69871693",
   "metadata": {},
   "outputs": [
    {
     "data": {
      "text/plain": [
       "(array([0, 1, 2]),\n",
       " [Text(0, 0, 'Operation'), Text(1, 0, 'Sales'), Text(2, 0, 'Support')])"
      ]
     },
     "execution_count": 36,
     "metadata": {},
     "output_type": "execute_result"
    },
    {
     "data": {
      "image/png": "[encoded data removed]",
      "text/plain": [
       "<Figure size 1000x600 with 1 Axes>"
      ]
     },
     "metadata": {},
     "output_type": "display_data"
    }
   ],
   "source": [
    "#Create a plot for crosstab\n",
    "\n",
    "pd.crosstab(attrdata['Function'],attrdata['Stay/Left']).plot(kind=\"bar\",figsize=(10,6))\n",
    "plt.title(\"Stay/Left vs Function\")\n",
    "plt.xlabel(\"Stay/Left\")\n",
    "plt.ylabel(\"No. of people who left/stay based on function of organization\")\n",
    "plt.legend([\"Left\",\"Stay\"])\n",
    "plt.xticks(rotation=0)"
   ]
  },
  {
   "cell_type": "markdown",
   "id": "1496e875",
   "metadata": {},
   "source": [
    "Here, in the chart, we can see that the maximum number of employees are in the operation section and a high number of employees in the same section are staying in the company.\n",
    "\n",
    "**Hiring (Direct/ Agency/ Employee referral)**"
   ]
  },
  {
   "cell_type": "code",
   "execution_count": 37,
   "id": "e71ea6f4",
   "metadata": {},
   "outputs": [
    {
     "data": {
      "text/plain": [
       "Hiring Source\n",
       "Direct               709\n",
       "Agency               116\n",
       "Employee Referral     71\n",
       "Name: count, dtype: int64"
      ]
     },
     "execution_count": 37,
     "metadata": {},
     "output_type": "execute_result"
    }
   ],
   "source": [
    "Hiring_dict = attrdata[\"Hiring Source\"].value_counts()\n",
    "Hiring_dict"
   ]
  },
  {
   "cell_type": "markdown",
   "id": "a3e5599c",
   "metadata": {},
   "source": [
    "**Marital Status (Single/ Married/ Seperated/ Div./ NTBD)**"
   ]
  },
  {
   "cell_type": "code",
   "execution_count": 38,
   "id": "dbac07bb",
   "metadata": {},
   "outputs": [
    {
     "name": "stdout",
     "output_type": "stream",
     "text": [
      "Marital Status\n",
      "Single    534\n",
      "Marr.     356\n",
      "Div.        2\n",
      "NTBD        2\n",
      "Sep.        2\n",
      "Name: count, dtype: int64\n"
     ]
    }
   ],
   "source": [
    "Marital_dict = attrdata[\"Marital Status\"].value_counts()\n",
    "print(Marital_dict)"
   ]
  },
  {
   "cell_type": "markdown",
   "id": "5391b845",
   "metadata": {},
   "source": [
    "**Employee Group**"
   ]
  },
  {
   "cell_type": "code",
   "execution_count": 40,
   "id": "f84053e6",
   "metadata": {},
   "outputs": [
    {
     "name": "stdout",
     "output_type": "stream",
     "text": [
      "Emp. Group\n",
      "B1             537\n",
      "B2             276\n",
      "B3              59\n",
      "B0               8\n",
      "B4               7\n",
      "B5               4\n",
      "B7               2\n",
      "B6               1\n",
      "C3               1\n",
      "D2               1\n",
      "other group      1\n",
      "Name: count, dtype: int64\n"
     ]
    }
   ],
   "source": [
    "Emp_Group_dict = attrdata[\"Emp. Group\"].value_counts()\n",
    "Emp_Group_dict[\"other group\"] = 1\n",
    "print(Emp_Group_dict)"
   ]
  },
  {
   "cell_type": "markdown",
   "id": "342d859a",
   "metadata": {},
   "source": [
    "**Job role match (Yes/ No)**"
   ]
  },
  {
   "cell_type": "code",
   "execution_count": 41,
   "id": "c2bb8469",
   "metadata": {},
   "outputs": [
    {
     "data": {
      "text/plain": [
       "Job Role Match\n",
       "Yes    481\n",
       "No     415\n",
       "Name: count, dtype: int64"
      ]
     },
     "execution_count": 41,
     "metadata": {},
     "output_type": "execute_result"
    }
   ],
   "source": [
    "job_dict = attrdata[\"Job Role Match\"].value_counts()\n",
    "job_dict"
   ]
  },
  {
   "cell_type": "markdown",
   "id": "8da3c80d",
   "metadata": {},
   "source": [
    "Now, we can see that majority of the employees have their correct role in Job."
   ]
  },
  {
   "cell_type": "code",
   "execution_count": 42,
   "id": "c5f47c35",
   "metadata": {},
   "outputs": [
    {
     "data": {
      "text/plain": [
       "(array([0, 1]), [Text(0, 0, 'No'), Text(1, 0, 'Yes')])"
      ]
     },
     "execution_count": 42,
     "metadata": {},
     "output_type": "execute_result"
    },
    {
     "data": {
      "image/png": "[encoded data removed]",
      "text/plain": [
       "<Figure size 1000x600 with 1 Axes>"
      ]
     },
     "metadata": {},
     "output_type": "display_data"
    }
   ],
   "source": [
    "#Create a plot for crosstab\n",
    "\n",
    "pd.crosstab(attrdata['Job Role Match'],attrdata['Stay/Left']).plot(kind=\"bar\",figsize=(10,6))\n",
    "plt.title(\"Stay/Left vs Job Role Match\")\n",
    "plt.xlabel(\"Stay/Left\")\n",
    "plt.legend([\"Left\",\"Stay\"])\n",
    "plt.xticks(rotation=0)"
   ]
  },
  {
   "cell_type": "markdown",
   "id": "9e9c3ba6",
   "metadata": {},
   "source": [
    "Here, in the above chart, we can see that the number of employees who got the correct job role is staying in the company rather than the ones who don’t have their right job role.\n",
    "\n",
    "**Tenure group**"
   ]
  },
  {
   "cell_type": "code",
   "execution_count": 43,
   "id": "b660e601",
   "metadata": {},
   "outputs": [
    {
     "name": "stdout",
     "output_type": "stream",
     "text": [
      "Tenure Grp.\n",
      "> 1 & < =3    626\n",
      "< =1          270\n",
      "Name: count, dtype: int64\n"
     ]
    }
   ],
   "source": [
    "tenure_dict = attrdata[\"Tenure Grp.\"].value_counts()\n",
    "print(tenure_dict)"
   ]
  },
  {
   "cell_type": "markdown",
   "id": "a3ef22f5",
   "metadata": {},
   "source": [
    "**Now let’s visualize some continuous data**"
   ]
  },
  {
   "cell_type": "code",
   "execution_count": 44,
   "id": "ccbaf33c",
   "metadata": {},
   "outputs": [
    {
     "data": {
      "text/plain": [
       "<seaborn.axisgrid.JointGrid at 0x2a70dddb770>"
      ]
     },
     "execution_count": 44,
     "metadata": {},
     "output_type": "execute_result"
    },
    {
     "data": {
      "image/png": "[encoded data removed]",
      "text/plain": [
       "<Figure size 600x600 with 3 Axes>"
      ]
     },
     "metadata": {},
     "output_type": "display_data"
    }
   ],
   "source": [
    "# Its Age vs stay/left\n",
    "sns.jointplot(x='Stay/Left',y='Age in YY.',data=attrdata)"
   ]
  },
  {
   "cell_type": "markdown",
   "id": "81813fc2",
   "metadata": {},
   "source": [
    "In the above graph, we can see that the ones who are having more age are staying back in the company rather than the ones who have comparatively less age."
   ]
  },
  {
   "cell_type": "code",
   "execution_count": 45,
   "id": "98e16be0",
   "metadata": {},
   "outputs": [
    {
     "data": {
      "text/plain": [
       "<seaborn.axisgrid.JointGrid at 0x2a712ed20d0>"
      ]
     },
     "execution_count": 45,
     "metadata": {},
     "output_type": "execute_result"
    },
    {
     "data": {
      "image/png": "[encoded data removed]",
      "text/plain": [
       "<Figure size 600x600 with 3 Axes>"
      ]
     },
     "metadata": {},
     "output_type": "display_data"
    }
   ],
   "source": [
    "sns.jointplot(x='Stay/Left',y='Experience (YY.MM)',data=attrdata)"
   ]
  },
  {
   "cell_type": "markdown",
   "id": "52b05977",
   "metadata": {},
   "source": [
    "Here in the above graph, we can see that the employees who have got more experience will be staying back in the company rather than the ones who have comparatively less experience.\n",
    "\n",
    "Here, first, we are trying to get the correlation between variables where the dataset is not processed that’s why we are not able to see the results in the manner we want to, **but in the latter half of the project, we will see the better correlation plot with the help of processed data.**"
   ]
  },
  {
   "cell_type": "code",
   "execution_count": 47,
   "id": "6161ed55",
   "metadata": {},
   "outputs": [
    {
     "data": {
      "image/png": "[encoded data removed]",
      "text/plain": [
       "<Figure size 1500x1000 with 2 Axes>"
      ]
     },
     "metadata": {},
     "output_type": "display_data"
    }
   ],
   "source": [
    "# Let's make our correlation matrix visual\n",
    "numeric_data = attrdata.select_dtypes(include='number')\n",
    "corr_matrix = numeric_data.corr()\n",
    "\n",
    "fig,ax=plt.subplots(figsize=(15,10))\n",
    "ax=sns.heatmap(corr_matrix,\n",
    "               annot=True,\n",
    "               linewidths=0.5,\n",
    "               fmt=\".2f\"\n",
    "              )"
   ]
  },
  {
   "cell_type": "markdown",
   "id": "e487bb36",
   "metadata": {},
   "source": [
    "## Data cleaning\n",
    "\n",
    "**Encoding the locations column (categorized)**\n",
    "\n",
    "Build a new dictionary (**location**) to be used to categorize data columns after **values are encoded.** Here, in **location_dict_new** we are using integer values instead of the actual region name so that our **machine learning** model could **interpret** it."
   ]
  },
  {
   "cell_type": "code",
   "execution_count": 48,
   "id": "c4e80926",
   "metadata": {},
   "outputs": [
    {
     "name": "stdout",
     "output_type": "stream",
     "text": [
      "Location\n",
      "Chennai       255\n",
      "Noida         236\n",
      "Bangalore     210\n",
      "Hyderabad      62\n",
      "Pune           56\n",
      "Madurai        29\n",
      "Lucknow        20\n",
      "Nagpur         14\n",
      "Vijayawada      6\n",
      "Mumbai          4\n",
      "Gurgaon         3\n",
      "Kolkata         1\n",
      "Name: count, dtype: int64\n"
     ]
    }
   ],
   "source": [
    "location_dict = attrdata[\"Location\"].value_counts()\n",
    "print(location_dict)"
   ]
  },
  {
   "cell_type": "code",
   "execution_count": 49,
   "id": "7e164f6d",
   "metadata": {},
   "outputs": [
    {
     "name": "stdout",
     "output_type": "stream",
     "text": [
      "{'Chennai': 7, 'Noida': 6, 'Bangalore': 5, 'Hyderabad': 4, 'Pune': 3, 'Madurai': 2, 'Lucknow': 1, 'other place': 0}\n"
     ]
    }
   ],
   "source": [
    "location_dict_new = {\n",
    "    'Chennai':       7,\n",
    "    'Noida':         6,\n",
    "    'Bangalore':     5,\n",
    "    'Hyderabad':     4,\n",
    "    'Pune':          3,\n",
    "    'Madurai':       2,\n",
    "    'Lucknow':       1,\n",
    "    'other place':   0,\n",
    "}\n",
    "\n",
    "print(location_dict_new)"
   ]
  },
  {
   "cell_type": "markdown",
   "id": "29715381",
   "metadata": {},
   "source": [
    "Now we will make a function for the **location column** to make a new column where encoded location values will be there because our machine learning algorithm will only understand **int/float values.**"
   ]
  },
  {
   "cell_type": "code",
   "execution_count": 50,
   "id": "9a8629e2",
   "metadata": {},
   "outputs": [
    {
     "data": {
      "text/html": [
       "<div>\n",
       "<style scoped>\n",
       "    .dataframe tbody tr th:only-of-type {\n",
       "        vertical-align: middle;\n",
       "    }\n",
       "\n",
       "    .dataframe tbody tr th {\n",
       "        vertical-align: top;\n",
       "    }\n",
       "\n",
       "    .dataframe thead th {\n",
       "        text-align: right;\n",
       "    }\n",
       "</style>\n",
       "<table border=\"1\" class=\"dataframe\">\n",
       "  <thead>\n",
       "    <tr style=\"text-align: right;\">\n",
       "      <th></th>\n",
       "      <th>table id</th>\n",
       "      <th>name</th>\n",
       "      <th>phone number</th>\n",
       "      <th>Location</th>\n",
       "      <th>Emp. Group</th>\n",
       "      <th>Function</th>\n",
       "      <th>Gender</th>\n",
       "      <th>Tenure</th>\n",
       "      <th>Tenure Grp.</th>\n",
       "      <th>Experience (YY.MM)</th>\n",
       "      <th>Marital Status</th>\n",
       "      <th>Age in YY.</th>\n",
       "      <th>Hiring Source</th>\n",
       "      <th>Promoted/Non Promoted</th>\n",
       "      <th>Job Role Match</th>\n",
       "      <th>Stay/Left</th>\n",
       "      <th>New Location</th>\n",
       "    </tr>\n",
       "  </thead>\n",
       "  <tbody>\n",
       "    <tr>\n",
       "      <th>0</th>\n",
       "      <td>1</td>\n",
       "      <td>sid</td>\n",
       "      <td>9876544345</td>\n",
       "      <td>Pune</td>\n",
       "      <td>B2</td>\n",
       "      <td>Operation</td>\n",
       "      <td>Male</td>\n",
       "      <td>0.00</td>\n",
       "      <td>&lt; =1</td>\n",
       "      <td>6.08</td>\n",
       "      <td>Single</td>\n",
       "      <td>27.12</td>\n",
       "      <td>Direct</td>\n",
       "      <td>Non Promoted</td>\n",
       "      <td>Yes</td>\n",
       "      <td>Left</td>\n",
       "      <td>3</td>\n",
       "    </tr>\n",
       "    <tr>\n",
       "      <th>1</th>\n",
       "      <td>2</td>\n",
       "      <td>sid</td>\n",
       "      <td>9876544345</td>\n",
       "      <td>Noida</td>\n",
       "      <td>B7</td>\n",
       "      <td>Support</td>\n",
       "      <td>Male</td>\n",
       "      <td>0.00</td>\n",
       "      <td>&lt; =1</td>\n",
       "      <td>13.00</td>\n",
       "      <td>Marr.</td>\n",
       "      <td>38.08</td>\n",
       "      <td>Direct</td>\n",
       "      <td>Promoted</td>\n",
       "      <td>No</td>\n",
       "      <td>Stay</td>\n",
       "      <td>6</td>\n",
       "    </tr>\n",
       "    <tr>\n",
       "      <th>2</th>\n",
       "      <td>3</td>\n",
       "      <td>sid</td>\n",
       "      <td>9876544345</td>\n",
       "      <td>Bangalore</td>\n",
       "      <td>B3</td>\n",
       "      <td>Operation</td>\n",
       "      <td>Male</td>\n",
       "      <td>0.01</td>\n",
       "      <td>&lt; =1</td>\n",
       "      <td>16.05</td>\n",
       "      <td>Marr.</td>\n",
       "      <td>36.04</td>\n",
       "      <td>Direct</td>\n",
       "      <td>Promoted</td>\n",
       "      <td>Yes</td>\n",
       "      <td>Stay</td>\n",
       "      <td>5</td>\n",
       "    </tr>\n",
       "    <tr>\n",
       "      <th>3</th>\n",
       "      <td>4</td>\n",
       "      <td>sid</td>\n",
       "      <td>9876544345</td>\n",
       "      <td>Noida</td>\n",
       "      <td>B2</td>\n",
       "      <td>Operation</td>\n",
       "      <td>Male</td>\n",
       "      <td>0.01</td>\n",
       "      <td>&lt; =1</td>\n",
       "      <td>6.06</td>\n",
       "      <td>Marr.</td>\n",
       "      <td>32.07</td>\n",
       "      <td>Direct</td>\n",
       "      <td>Promoted</td>\n",
       "      <td>Yes</td>\n",
       "      <td>Stay</td>\n",
       "      <td>6</td>\n",
       "    </tr>\n",
       "    <tr>\n",
       "      <th>4</th>\n",
       "      <td>5</td>\n",
       "      <td>sid</td>\n",
       "      <td>9876544345</td>\n",
       "      <td>Lucknow</td>\n",
       "      <td>B2</td>\n",
       "      <td>Operation</td>\n",
       "      <td>Male</td>\n",
       "      <td>0.00</td>\n",
       "      <td>&lt; =1</td>\n",
       "      <td>7.00</td>\n",
       "      <td>Marr.</td>\n",
       "      <td>32.05</td>\n",
       "      <td>Direct</td>\n",
       "      <td>Non Promoted</td>\n",
       "      <td>Yes</td>\n",
       "      <td>Stay</td>\n",
       "      <td>1</td>\n",
       "    </tr>\n",
       "  </tbody>\n",
       "</table>\n",
       "</div>"
      ],
      "text/plain": [
       "   table id name  phone number   Location Emp. Group   Function Gender   \\\n",
       "0         1  sid    9876544345       Pune         B2  Operation    Male   \n",
       "1         2  sid    9876544345      Noida         B7    Support    Male   \n",
       "2         3  sid    9876544345  Bangalore         B3  Operation    Male   \n",
       "3         4  sid    9876544345      Noida         B2  Operation    Male   \n",
       "4         5  sid    9876544345    Lucknow         B2  Operation    Male   \n",
       "\n",
       "   Tenure Tenure Grp.  Experience (YY.MM) Marital Status  Age in YY.  \\\n",
       "0    0.00        < =1                6.08         Single       27.12   \n",
       "1    0.00        < =1               13.00          Marr.       38.08   \n",
       "2    0.01        < =1               16.05          Marr.       36.04   \n",
       "3    0.01        < =1                6.06          Marr.       32.07   \n",
       "4    0.00        < =1                7.00          Marr.       32.05   \n",
       "\n",
       "  Hiring Source Promoted/Non Promoted Job Role Match Stay/Left  New Location  \n",
       "0        Direct          Non Promoted            Yes      Left             3  \n",
       "1        Direct              Promoted             No      Stay             6  \n",
       "2        Direct              Promoted            Yes      Stay             5  \n",
       "3        Direct              Promoted            Yes      Stay             6  \n",
       "4        Direct          Non Promoted            Yes      Stay             1  "
      ]
     },
     "execution_count": 50,
     "metadata": {},
     "output_type": "execute_result"
    }
   ],
   "source": [
    "def location(x):\n",
    "    if str(x) in location_dict_new.keys():\n",
    "        return location_dict_new[str(x)]\n",
    "    else:\n",
    "        return location_dict_new['other place']\n",
    "    \n",
    "data_l = attrdata[\"Location\"].apply(location)\n",
    "attrdata['New Location'] = data_l\n",
    "attrdata.head()"
   ]
  },
  {
   "cell_type": "markdown",
   "id": "c1c21244",
   "metadata": {},
   "source": [
    "**get_dummies()**\n",
    "\n",
    "Pandas **get_dummies()** function is used for **manipulating data**, this function is used to convert the **categorical values to dummy variables** and the same thing has been done with:\n",
    "\n",
    "1. Function\n",
    "2. Hiring Source\n",
    "3. New Marital\n",
    "4. New Gender\n",
    "5. Tenure group"
   ]
  },
  {
   "cell_type": "code",
   "execution_count": 52,
   "id": "9ff67bfd",
   "metadata": {},
   "outputs": [
    {
     "data": {
      "text/html": [
       "<div>\n",
       "<style scoped>\n",
       "    .dataframe tbody tr th:only-of-type {\n",
       "        vertical-align: middle;\n",
       "    }\n",
       "\n",
       "    .dataframe tbody tr th {\n",
       "        vertical-align: top;\n",
       "    }\n",
       "\n",
       "    .dataframe thead th {\n",
       "        text-align: right;\n",
       "    }\n",
       "</style>\n",
       "<table border=\"1\" class=\"dataframe\">\n",
       "  <thead>\n",
       "    <tr style=\"text-align: right;\">\n",
       "      <th></th>\n",
       "      <th>Operation</th>\n",
       "      <th>Sales</th>\n",
       "      <th>Support</th>\n",
       "    </tr>\n",
       "  </thead>\n",
       "  <tbody>\n",
       "    <tr>\n",
       "      <th>0</th>\n",
       "      <td>1</td>\n",
       "      <td>0</td>\n",
       "      <td>0</td>\n",
       "    </tr>\n",
       "    <tr>\n",
       "      <th>1</th>\n",
       "      <td>0</td>\n",
       "      <td>0</td>\n",
       "      <td>1</td>\n",
       "    </tr>\n",
       "    <tr>\n",
       "      <th>2</th>\n",
       "      <td>1</td>\n",
       "      <td>0</td>\n",
       "      <td>0</td>\n",
       "    </tr>\n",
       "    <tr>\n",
       "      <th>3</th>\n",
       "      <td>1</td>\n",
       "      <td>0</td>\n",
       "      <td>0</td>\n",
       "    </tr>\n",
       "    <tr>\n",
       "      <th>4</th>\n",
       "      <td>1</td>\n",
       "      <td>0</td>\n",
       "      <td>0</td>\n",
       "    </tr>\n",
       "  </tbody>\n",
       "</table>\n",
       "</div>"
      ],
      "text/plain": [
       "   Operation  Sales  Support\n",
       "0          1      0        0\n",
       "1          0      0        1\n",
       "2          1      0        0\n",
       "3          1      0        0\n",
       "4          1      0        0"
      ]
     },
     "execution_count": 52,
     "metadata": {},
     "output_type": "execute_result"
    }
   ],
   "source": [
    "gen = pd.get_dummies(attrdata[\"Function\"],dtype=int)\n",
    "gen.head()"
   ]
  },
  {
   "cell_type": "code",
   "execution_count": 53,
   "id": "f905b174",
   "metadata": {},
   "outputs": [
    {
     "data": {
      "text/html": [
       "<div>\n",
       "<style scoped>\n",
       "    .dataframe tbody tr th:only-of-type {\n",
       "        vertical-align: middle;\n",
       "    }\n",
       "\n",
       "    .dataframe tbody tr th {\n",
       "        vertical-align: top;\n",
       "    }\n",
       "\n",
       "    .dataframe thead th {\n",
       "        text-align: right;\n",
       "    }\n",
       "</style>\n",
       "<table border=\"1\" class=\"dataframe\">\n",
       "  <thead>\n",
       "    <tr style=\"text-align: right;\">\n",
       "      <th></th>\n",
       "      <th>Agency</th>\n",
       "      <th>Direct</th>\n",
       "      <th>Employee Referral</th>\n",
       "    </tr>\n",
       "  </thead>\n",
       "  <tbody>\n",
       "    <tr>\n",
       "      <th>0</th>\n",
       "      <td>0</td>\n",
       "      <td>1</td>\n",
       "      <td>0</td>\n",
       "    </tr>\n",
       "    <tr>\n",
       "      <th>1</th>\n",
       "      <td>0</td>\n",
       "      <td>1</td>\n",
       "      <td>0</td>\n",
       "    </tr>\n",
       "    <tr>\n",
       "      <th>2</th>\n",
       "      <td>0</td>\n",
       "      <td>1</td>\n",
       "      <td>0</td>\n",
       "    </tr>\n",
       "    <tr>\n",
       "      <th>3</th>\n",
       "      <td>0</td>\n",
       "      <td>1</td>\n",
       "      <td>0</td>\n",
       "    </tr>\n",
       "    <tr>\n",
       "      <th>4</th>\n",
       "      <td>0</td>\n",
       "      <td>1</td>\n",
       "      <td>0</td>\n",
       "    </tr>\n",
       "  </tbody>\n",
       "</table>\n",
       "</div>"
      ],
      "text/plain": [
       "   Agency  Direct  Employee Referral\n",
       "0       0       1                  0\n",
       "1       0       1                  0\n",
       "2       0       1                  0\n",
       "3       0       1                  0\n",
       "4       0       1                  0"
      ]
     },
     "execution_count": 53,
     "metadata": {},
     "output_type": "execute_result"
    }
   ],
   "source": [
    "hr = pd.get_dummies(attrdata[\"Hiring Source\"], dtype=int)\n",
    "hr.head()"
   ]
  },
  {
   "cell_type": "markdown",
   "id": "f7ea6d8f",
   "metadata": {},
   "source": [
    "**Marital Status**\n",
    "\n",
    "Here, in Mar() function we are using **Maritial dictionary keys** to convert those categorical values into acceptable type values for our ML models."
   ]
  },
  {
   "cell_type": "code",
   "execution_count": 54,
   "id": "7b486f9f",
   "metadata": {},
   "outputs": [
    {
     "data": {
      "text/html": [
       "<div>\n",
       "<style scoped>\n",
       "    .dataframe tbody tr th:only-of-type {\n",
       "        vertical-align: middle;\n",
       "    }\n",
       "\n",
       "    .dataframe tbody tr th {\n",
       "        vertical-align: top;\n",
       "    }\n",
       "\n",
       "    .dataframe thead th {\n",
       "        text-align: right;\n",
       "    }\n",
       "</style>\n",
       "<table border=\"1\" class=\"dataframe\">\n",
       "  <thead>\n",
       "    <tr style=\"text-align: right;\">\n",
       "      <th></th>\n",
       "      <th>table id</th>\n",
       "      <th>name</th>\n",
       "      <th>phone number</th>\n",
       "      <th>Location</th>\n",
       "      <th>Emp. Group</th>\n",
       "      <th>Function</th>\n",
       "      <th>Gender</th>\n",
       "      <th>Tenure</th>\n",
       "      <th>Tenure Grp.</th>\n",
       "      <th>Experience (YY.MM)</th>\n",
       "      <th>Marital Status</th>\n",
       "      <th>Age in YY.</th>\n",
       "      <th>Hiring Source</th>\n",
       "      <th>Promoted/Non Promoted</th>\n",
       "      <th>Job Role Match</th>\n",
       "      <th>Stay/Left</th>\n",
       "      <th>New Location</th>\n",
       "      <th>New Marital</th>\n",
       "    </tr>\n",
       "  </thead>\n",
       "  <tbody>\n",
       "    <tr>\n",
       "      <th>0</th>\n",
       "      <td>1</td>\n",
       "      <td>sid</td>\n",
       "      <td>9876544345</td>\n",
       "      <td>Pune</td>\n",
       "      <td>B2</td>\n",
       "      <td>Operation</td>\n",
       "      <td>Male</td>\n",
       "      <td>0.00</td>\n",
       "      <td>&lt; =1</td>\n",
       "      <td>6.08</td>\n",
       "      <td>Single</td>\n",
       "      <td>27.12</td>\n",
       "      <td>Direct</td>\n",
       "      <td>Non Promoted</td>\n",
       "      <td>Yes</td>\n",
       "      <td>Left</td>\n",
       "      <td>3</td>\n",
       "      <td>Single</td>\n",
       "    </tr>\n",
       "    <tr>\n",
       "      <th>1</th>\n",
       "      <td>2</td>\n",
       "      <td>sid</td>\n",
       "      <td>9876544345</td>\n",
       "      <td>Noida</td>\n",
       "      <td>B7</td>\n",
       "      <td>Support</td>\n",
       "      <td>Male</td>\n",
       "      <td>0.00</td>\n",
       "      <td>&lt; =1</td>\n",
       "      <td>13.00</td>\n",
       "      <td>Marr.</td>\n",
       "      <td>38.08</td>\n",
       "      <td>Direct</td>\n",
       "      <td>Promoted</td>\n",
       "      <td>No</td>\n",
       "      <td>Stay</td>\n",
       "      <td>6</td>\n",
       "      <td>Marr.</td>\n",
       "    </tr>\n",
       "    <tr>\n",
       "      <th>2</th>\n",
       "      <td>3</td>\n",
       "      <td>sid</td>\n",
       "      <td>9876544345</td>\n",
       "      <td>Bangalore</td>\n",
       "      <td>B3</td>\n",
       "      <td>Operation</td>\n",
       "      <td>Male</td>\n",
       "      <td>0.01</td>\n",
       "      <td>&lt; =1</td>\n",
       "      <td>16.05</td>\n",
       "      <td>Marr.</td>\n",
       "      <td>36.04</td>\n",
       "      <td>Direct</td>\n",
       "      <td>Promoted</td>\n",
       "      <td>Yes</td>\n",
       "      <td>Stay</td>\n",
       "      <td>5</td>\n",
       "      <td>Marr.</td>\n",
       "    </tr>\n",
       "    <tr>\n",
       "      <th>3</th>\n",
       "      <td>4</td>\n",
       "      <td>sid</td>\n",
       "      <td>9876544345</td>\n",
       "      <td>Noida</td>\n",
       "      <td>B2</td>\n",
       "      <td>Operation</td>\n",
       "      <td>Male</td>\n",
       "      <td>0.01</td>\n",
       "      <td>&lt; =1</td>\n",
       "      <td>6.06</td>\n",
       "      <td>Marr.</td>\n",
       "      <td>32.07</td>\n",
       "      <td>Direct</td>\n",
       "      <td>Promoted</td>\n",
       "      <td>Yes</td>\n",
       "      <td>Stay</td>\n",
       "      <td>6</td>\n",
       "      <td>Marr.</td>\n",
       "    </tr>\n",
       "    <tr>\n",
       "      <th>4</th>\n",
       "      <td>5</td>\n",
       "      <td>sid</td>\n",
       "      <td>9876544345</td>\n",
       "      <td>Lucknow</td>\n",
       "      <td>B2</td>\n",
       "      <td>Operation</td>\n",
       "      <td>Male</td>\n",
       "      <td>0.00</td>\n",
       "      <td>&lt; =1</td>\n",
       "      <td>7.00</td>\n",
       "      <td>Marr.</td>\n",
       "      <td>32.05</td>\n",
       "      <td>Direct</td>\n",
       "      <td>Non Promoted</td>\n",
       "      <td>Yes</td>\n",
       "      <td>Stay</td>\n",
       "      <td>1</td>\n",
       "      <td>Marr.</td>\n",
       "    </tr>\n",
       "  </tbody>\n",
       "</table>\n",
       "</div>"
      ],
      "text/plain": [
       "   table id name  phone number   Location Emp. Group   Function Gender   \\\n",
       "0         1  sid    9876544345       Pune         B2  Operation    Male   \n",
       "1         2  sid    9876544345      Noida         B7    Support    Male   \n",
       "2         3  sid    9876544345  Bangalore         B3  Operation    Male   \n",
       "3         4  sid    9876544345      Noida         B2  Operation    Male   \n",
       "4         5  sid    9876544345    Lucknow         B2  Operation    Male   \n",
       "\n",
       "   Tenure Tenure Grp.  Experience (YY.MM) Marital Status  Age in YY.  \\\n",
       "0    0.00        < =1                6.08         Single       27.12   \n",
       "1    0.00        < =1               13.00          Marr.       38.08   \n",
       "2    0.01        < =1               16.05          Marr.       36.04   \n",
       "3    0.01        < =1                6.06          Marr.       32.07   \n",
       "4    0.00        < =1                7.00          Marr.       32.05   \n",
       "\n",
       "  Hiring Source Promoted/Non Promoted Job Role Match Stay/Left  New Location  \\\n",
       "0        Direct          Non Promoted            Yes      Left             3   \n",
       "1        Direct              Promoted             No      Stay             6   \n",
       "2        Direct              Promoted            Yes      Stay             5   \n",
       "3        Direct              Promoted            Yes      Stay             6   \n",
       "4        Direct          Non Promoted            Yes      Stay             1   \n",
       "\n",
       "  New Marital  \n",
       "0      Single  \n",
       "1       Marr.  \n",
       "2       Marr.  \n",
       "3       Marr.  \n",
       "4       Marr.  "
      ]
     },
     "execution_count": 54,
     "metadata": {},
     "output_type": "execute_result"
    }
   ],
   "source": [
    "def Mar(x):\n",
    "    if str(x) in Marital_dict.keys() and Marital_dict[str(x)] > 100:\n",
    "        return str(x)\n",
    "    else:\n",
    "        return 'other status'\n",
    "    \n",
    "data_l = attrdata[\"Marital Status\"].apply(Mar)\n",
    "attrdata['New Marital'] = data_l\n",
    "attrdata.head()"
   ]
  },
  {
   "cell_type": "markdown",
   "id": "cf3b0cb5",
   "metadata": {},
   "source": [
    "Using the get_dummies to function for New Marital we are converting categorical values into dummy variables"
   ]
  },
  {
   "cell_type": "code",
   "execution_count": 56,
   "id": "58fd59a9",
   "metadata": {},
   "outputs": [
    {
     "data": {
      "text/html": [
       "<div>\n",
       "<style scoped>\n",
       "    .dataframe tbody tr th:only-of-type {\n",
       "        vertical-align: middle;\n",
       "    }\n",
       "\n",
       "    .dataframe tbody tr th {\n",
       "        vertical-align: top;\n",
       "    }\n",
       "\n",
       "    .dataframe thead th {\n",
       "        text-align: right;\n",
       "    }\n",
       "</style>\n",
       "<table border=\"1\" class=\"dataframe\">\n",
       "  <thead>\n",
       "    <tr style=\"text-align: right;\">\n",
       "      <th></th>\n",
       "      <th>Marr.</th>\n",
       "      <th>Single</th>\n",
       "      <th>other status</th>\n",
       "    </tr>\n",
       "  </thead>\n",
       "  <tbody>\n",
       "    <tr>\n",
       "      <th>0</th>\n",
       "      <td>0</td>\n",
       "      <td>1</td>\n",
       "      <td>0</td>\n",
       "    </tr>\n",
       "    <tr>\n",
       "      <th>1</th>\n",
       "      <td>1</td>\n",
       "      <td>0</td>\n",
       "      <td>0</td>\n",
       "    </tr>\n",
       "    <tr>\n",
       "      <th>2</th>\n",
       "      <td>1</td>\n",
       "      <td>0</td>\n",
       "      <td>0</td>\n",
       "    </tr>\n",
       "    <tr>\n",
       "      <th>3</th>\n",
       "      <td>1</td>\n",
       "      <td>0</td>\n",
       "      <td>0</td>\n",
       "    </tr>\n",
       "    <tr>\n",
       "      <th>4</th>\n",
       "      <td>1</td>\n",
       "      <td>0</td>\n",
       "      <td>0</td>\n",
       "    </tr>\n",
       "  </tbody>\n",
       "</table>\n",
       "</div>"
      ],
      "text/plain": [
       "   Marr.  Single  other status\n",
       "0      0       1             0\n",
       "1      1       0             0\n",
       "2      1       0             0\n",
       "3      1       0             0\n",
       "4      1       0             0"
      ]
     },
     "execution_count": 56,
     "metadata": {},
     "output_type": "execute_result"
    }
   ],
   "source": [
    "Mr = pd.get_dummies(attrdata[\"New Marital\"], dtype=int)\n",
    "Mr.head()"
   ]
  },
  {
   "cell_type": "markdown",
   "id": "0ec900da",
   "metadata": {},
   "source": [
    "**Promoted/Not Promoted**\n",
    "\n",
    "Here, with the help of **Promoted function**, we are converting **Promoted and Non promoted** values into **1 and 0 respectively** for **encoding purposes.**"
   ]
  },
  {
   "cell_type": "code",
   "execution_count": 57,
   "id": "9e36b127",
   "metadata": {},
   "outputs": [
    {
     "data": {
      "text/html": [
       "<div>\n",
       "<style scoped>\n",
       "    .dataframe tbody tr th:only-of-type {\n",
       "        vertical-align: middle;\n",
       "    }\n",
       "\n",
       "    .dataframe tbody tr th {\n",
       "        vertical-align: top;\n",
       "    }\n",
       "\n",
       "    .dataframe thead th {\n",
       "        text-align: right;\n",
       "    }\n",
       "</style>\n",
       "<table border=\"1\" class=\"dataframe\">\n",
       "  <thead>\n",
       "    <tr style=\"text-align: right;\">\n",
       "      <th></th>\n",
       "      <th>table id</th>\n",
       "      <th>name</th>\n",
       "      <th>phone number</th>\n",
       "      <th>Location</th>\n",
       "      <th>Emp. Group</th>\n",
       "      <th>Function</th>\n",
       "      <th>Gender</th>\n",
       "      <th>Tenure</th>\n",
       "      <th>Tenure Grp.</th>\n",
       "      <th>Experience (YY.MM)</th>\n",
       "      <th>Marital Status</th>\n",
       "      <th>Age in YY.</th>\n",
       "      <th>Hiring Source</th>\n",
       "      <th>Promoted/Non Promoted</th>\n",
       "      <th>Job Role Match</th>\n",
       "      <th>Stay/Left</th>\n",
       "      <th>New Location</th>\n",
       "      <th>New Marital</th>\n",
       "      <th>New Promotion</th>\n",
       "    </tr>\n",
       "  </thead>\n",
       "  <tbody>\n",
       "    <tr>\n",
       "      <th>0</th>\n",
       "      <td>1</td>\n",
       "      <td>sid</td>\n",
       "      <td>9876544345</td>\n",
       "      <td>Pune</td>\n",
       "      <td>B2</td>\n",
       "      <td>Operation</td>\n",
       "      <td>Male</td>\n",
       "      <td>0.00</td>\n",
       "      <td>&lt; =1</td>\n",
       "      <td>6.08</td>\n",
       "      <td>Single</td>\n",
       "      <td>27.12</td>\n",
       "      <td>Direct</td>\n",
       "      <td>Non Promoted</td>\n",
       "      <td>Yes</td>\n",
       "      <td>Left</td>\n",
       "      <td>3</td>\n",
       "      <td>Single</td>\n",
       "      <td>0</td>\n",
       "    </tr>\n",
       "    <tr>\n",
       "      <th>1</th>\n",
       "      <td>2</td>\n",
       "      <td>sid</td>\n",
       "      <td>9876544345</td>\n",
       "      <td>Noida</td>\n",
       "      <td>B7</td>\n",
       "      <td>Support</td>\n",
       "      <td>Male</td>\n",
       "      <td>0.00</td>\n",
       "      <td>&lt; =1</td>\n",
       "      <td>13.00</td>\n",
       "      <td>Marr.</td>\n",
       "      <td>38.08</td>\n",
       "      <td>Direct</td>\n",
       "      <td>Promoted</td>\n",
       "      <td>No</td>\n",
       "      <td>Stay</td>\n",
       "      <td>6</td>\n",
       "      <td>Marr.</td>\n",
       "      <td>1</td>\n",
       "    </tr>\n",
       "    <tr>\n",
       "      <th>2</th>\n",
       "      <td>3</td>\n",
       "      <td>sid</td>\n",
       "      <td>9876544345</td>\n",
       "      <td>Bangalore</td>\n",
       "      <td>B3</td>\n",
       "      <td>Operation</td>\n",
       "      <td>Male</td>\n",
       "      <td>0.01</td>\n",
       "      <td>&lt; =1</td>\n",
       "      <td>16.05</td>\n",
       "      <td>Marr.</td>\n",
       "      <td>36.04</td>\n",
       "      <td>Direct</td>\n",
       "      <td>Promoted</td>\n",
       "      <td>Yes</td>\n",
       "      <td>Stay</td>\n",
       "      <td>5</td>\n",
       "      <td>Marr.</td>\n",
       "      <td>1</td>\n",
       "    </tr>\n",
       "    <tr>\n",
       "      <th>3</th>\n",
       "      <td>4</td>\n",
       "      <td>sid</td>\n",
       "      <td>9876544345</td>\n",
       "      <td>Noida</td>\n",
       "      <td>B2</td>\n",
       "      <td>Operation</td>\n",
       "      <td>Male</td>\n",
       "      <td>0.01</td>\n",
       "      <td>&lt; =1</td>\n",
       "      <td>6.06</td>\n",
       "      <td>Marr.</td>\n",
       "      <td>32.07</td>\n",
       "      <td>Direct</td>\n",
       "      <td>Promoted</td>\n",
       "      <td>Yes</td>\n",
       "      <td>Stay</td>\n",
       "      <td>6</td>\n",
       "      <td>Marr.</td>\n",
       "      <td>1</td>\n",
       "    </tr>\n",
       "    <tr>\n",
       "      <th>4</th>\n",
       "      <td>5</td>\n",
       "      <td>sid</td>\n",
       "      <td>9876544345</td>\n",
       "      <td>Lucknow</td>\n",
       "      <td>B2</td>\n",
       "      <td>Operation</td>\n",
       "      <td>Male</td>\n",
       "      <td>0.00</td>\n",
       "      <td>&lt; =1</td>\n",
       "      <td>7.00</td>\n",
       "      <td>Marr.</td>\n",
       "      <td>32.05</td>\n",
       "      <td>Direct</td>\n",
       "      <td>Non Promoted</td>\n",
       "      <td>Yes</td>\n",
       "      <td>Stay</td>\n",
       "      <td>1</td>\n",
       "      <td>Marr.</td>\n",
       "      <td>0</td>\n",
       "    </tr>\n",
       "  </tbody>\n",
       "</table>\n",
       "</div>"
      ],
      "text/plain": [
       "   table id name  phone number   Location Emp. Group   Function Gender   \\\n",
       "0         1  sid    9876544345       Pune         B2  Operation    Male   \n",
       "1         2  sid    9876544345      Noida         B7    Support    Male   \n",
       "2         3  sid    9876544345  Bangalore         B3  Operation    Male   \n",
       "3         4  sid    9876544345      Noida         B2  Operation    Male   \n",
       "4         5  sid    9876544345    Lucknow         B2  Operation    Male   \n",
       "\n",
       "   Tenure Tenure Grp.  Experience (YY.MM) Marital Status  Age in YY.  \\\n",
       "0    0.00        < =1                6.08         Single       27.12   \n",
       "1    0.00        < =1               13.00          Marr.       38.08   \n",
       "2    0.01        < =1               16.05          Marr.       36.04   \n",
       "3    0.01        < =1                6.06          Marr.       32.07   \n",
       "4    0.00        < =1                7.00          Marr.       32.05   \n",
       "\n",
       "  Hiring Source Promoted/Non Promoted Job Role Match Stay/Left  New Location  \\\n",
       "0        Direct          Non Promoted            Yes      Left             3   \n",
       "1        Direct              Promoted             No      Stay             6   \n",
       "2        Direct              Promoted            Yes      Stay             5   \n",
       "3        Direct              Promoted            Yes      Stay             6   \n",
       "4        Direct          Non Promoted            Yes      Stay             1   \n",
       "\n",
       "  New Marital  New Promotion  \n",
       "0      Single              0  \n",
       "1       Marr.              1  \n",
       "2       Marr.              1  \n",
       "3       Marr.              1  \n",
       "4       Marr.              0  "
      ]
     },
     "execution_count": 57,
     "metadata": {},
     "output_type": "execute_result"
    }
   ],
   "source": [
    "def Promoted(x):\n",
    "    if x == 'Promoted':\n",
    "        return int(1)\n",
    "    else:\n",
    "        return int(0)\n",
    "\n",
    "data_l = attrdata[\"Promoted/Non Promoted\"].apply(Promoted)\n",
    "attrdata['New Promotion'] = data_l\n",
    "attrdata.head()"
   ]
  },
  {
   "cell_type": "markdown",
   "id": "e36dc442",
   "metadata": {},
   "source": [
    "**Employee Group**\n",
    "\n",
    "Here first, we are creating a **dictionary** for the **employee group** and tagging each group to the respective integer values, later we are creating **an emp()** function where the **encoding of the categorical values is done** – similar to **marital status**."
   ]
  },
  {
   "cell_type": "code",
   "execution_count": 60,
   "id": "1da0a748",
   "metadata": {},
   "outputs": [
    {
     "data": {
      "text/html": [
       "<div>\n",
       "<style scoped>\n",
       "    .dataframe tbody tr th:only-of-type {\n",
       "        vertical-align: middle;\n",
       "    }\n",
       "\n",
       "    .dataframe tbody tr th {\n",
       "        vertical-align: top;\n",
       "    }\n",
       "\n",
       "    .dataframe thead th {\n",
       "        text-align: right;\n",
       "    }\n",
       "</style>\n",
       "<table border=\"1\" class=\"dataframe\">\n",
       "  <thead>\n",
       "    <tr style=\"text-align: right;\">\n",
       "      <th></th>\n",
       "      <th>table id</th>\n",
       "      <th>name</th>\n",
       "      <th>phone number</th>\n",
       "      <th>Location</th>\n",
       "      <th>Emp. Group</th>\n",
       "      <th>Function</th>\n",
       "      <th>Gender</th>\n",
       "      <th>Tenure</th>\n",
       "      <th>Tenure Grp.</th>\n",
       "      <th>Experience (YY.MM)</th>\n",
       "      <th>Marital Status</th>\n",
       "      <th>Age in YY.</th>\n",
       "      <th>Hiring Source</th>\n",
       "      <th>Promoted/Non Promoted</th>\n",
       "      <th>Job Role Match</th>\n",
       "      <th>Stay/Left</th>\n",
       "      <th>New Location</th>\n",
       "      <th>New Marital</th>\n",
       "      <th>New Promotion</th>\n",
       "      <th>New EMP</th>\n",
       "    </tr>\n",
       "  </thead>\n",
       "  <tbody>\n",
       "    <tr>\n",
       "      <th>0</th>\n",
       "      <td>1</td>\n",
       "      <td>sid</td>\n",
       "      <td>9876544345</td>\n",
       "      <td>Pune</td>\n",
       "      <td>B2</td>\n",
       "      <td>Operation</td>\n",
       "      <td>Male</td>\n",
       "      <td>0.00</td>\n",
       "      <td>&lt; =1</td>\n",
       "      <td>6.08</td>\n",
       "      <td>Single</td>\n",
       "      <td>27.12</td>\n",
       "      <td>Direct</td>\n",
       "      <td>Non Promoted</td>\n",
       "      <td>Yes</td>\n",
       "      <td>Left</td>\n",
       "      <td>3</td>\n",
       "      <td>Single</td>\n",
       "      <td>0</td>\n",
       "      <td>B2</td>\n",
       "    </tr>\n",
       "    <tr>\n",
       "      <th>1</th>\n",
       "      <td>2</td>\n",
       "      <td>sid</td>\n",
       "      <td>9876544345</td>\n",
       "      <td>Noida</td>\n",
       "      <td>B7</td>\n",
       "      <td>Support</td>\n",
       "      <td>Male</td>\n",
       "      <td>0.00</td>\n",
       "      <td>&lt; =1</td>\n",
       "      <td>13.00</td>\n",
       "      <td>Marr.</td>\n",
       "      <td>38.08</td>\n",
       "      <td>Direct</td>\n",
       "      <td>Promoted</td>\n",
       "      <td>No</td>\n",
       "      <td>Stay</td>\n",
       "      <td>6</td>\n",
       "      <td>Marr.</td>\n",
       "      <td>1</td>\n",
       "      <td>other group</td>\n",
       "    </tr>\n",
       "    <tr>\n",
       "      <th>2</th>\n",
       "      <td>3</td>\n",
       "      <td>sid</td>\n",
       "      <td>9876544345</td>\n",
       "      <td>Bangalore</td>\n",
       "      <td>B3</td>\n",
       "      <td>Operation</td>\n",
       "      <td>Male</td>\n",
       "      <td>0.01</td>\n",
       "      <td>&lt; =1</td>\n",
       "      <td>16.05</td>\n",
       "      <td>Marr.</td>\n",
       "      <td>36.04</td>\n",
       "      <td>Direct</td>\n",
       "      <td>Promoted</td>\n",
       "      <td>Yes</td>\n",
       "      <td>Stay</td>\n",
       "      <td>5</td>\n",
       "      <td>Marr.</td>\n",
       "      <td>1</td>\n",
       "      <td>B3</td>\n",
       "    </tr>\n",
       "    <tr>\n",
       "      <th>3</th>\n",
       "      <td>4</td>\n",
       "      <td>sid</td>\n",
       "      <td>9876544345</td>\n",
       "      <td>Noida</td>\n",
       "      <td>B2</td>\n",
       "      <td>Operation</td>\n",
       "      <td>Male</td>\n",
       "      <td>0.01</td>\n",
       "      <td>&lt; =1</td>\n",
       "      <td>6.06</td>\n",
       "      <td>Marr.</td>\n",
       "      <td>32.07</td>\n",
       "      <td>Direct</td>\n",
       "      <td>Promoted</td>\n",
       "      <td>Yes</td>\n",
       "      <td>Stay</td>\n",
       "      <td>6</td>\n",
       "      <td>Marr.</td>\n",
       "      <td>1</td>\n",
       "      <td>B2</td>\n",
       "    </tr>\n",
       "    <tr>\n",
       "      <th>4</th>\n",
       "      <td>5</td>\n",
       "      <td>sid</td>\n",
       "      <td>9876544345</td>\n",
       "      <td>Lucknow</td>\n",
       "      <td>B2</td>\n",
       "      <td>Operation</td>\n",
       "      <td>Male</td>\n",
       "      <td>0.00</td>\n",
       "      <td>&lt; =1</td>\n",
       "      <td>7.00</td>\n",
       "      <td>Marr.</td>\n",
       "      <td>32.05</td>\n",
       "      <td>Direct</td>\n",
       "      <td>Non Promoted</td>\n",
       "      <td>Yes</td>\n",
       "      <td>Stay</td>\n",
       "      <td>1</td>\n",
       "      <td>Marr.</td>\n",
       "      <td>0</td>\n",
       "      <td>B2</td>\n",
       "    </tr>\n",
       "  </tbody>\n",
       "</table>\n",
       "</div>"
      ],
      "text/plain": [
       "   table id name  phone number   Location Emp. Group   Function Gender   \\\n",
       "0         1  sid    9876544345       Pune         B2  Operation    Male   \n",
       "1         2  sid    9876544345      Noida         B7    Support    Male   \n",
       "2         3  sid    9876544345  Bangalore         B3  Operation    Male   \n",
       "3         4  sid    9876544345      Noida         B2  Operation    Male   \n",
       "4         5  sid    9876544345    Lucknow         B2  Operation    Male   \n",
       "\n",
       "   Tenure Tenure Grp.  Experience (YY.MM) Marital Status  Age in YY.  \\\n",
       "0    0.00        < =1                6.08         Single       27.12   \n",
       "1    0.00        < =1               13.00          Marr.       38.08   \n",
       "2    0.01        < =1               16.05          Marr.       36.04   \n",
       "3    0.01        < =1                6.06          Marr.       32.07   \n",
       "4    0.00        < =1                7.00          Marr.       32.05   \n",
       "\n",
       "  Hiring Source Promoted/Non Promoted Job Role Match Stay/Left  New Location  \\\n",
       "0        Direct          Non Promoted            Yes      Left             3   \n",
       "1        Direct              Promoted             No      Stay             6   \n",
       "2        Direct              Promoted            Yes      Stay             5   \n",
       "3        Direct              Promoted            Yes      Stay             6   \n",
       "4        Direct          Non Promoted            Yes      Stay             1   \n",
       "\n",
       "  New Marital  New Promotion      New EMP  \n",
       "0      Single              0           B2  \n",
       "1       Marr.              1  other group  \n",
       "2       Marr.              1           B3  \n",
       "3       Marr.              1           B2  \n",
       "4       Marr.              0           B2  "
      ]
     },
     "execution_count": 60,
     "metadata": {},
     "output_type": "execute_result"
    }
   ],
   "source": [
    "Emp_dict_new = {\n",
    "    'B1': 4,\n",
    "    'B2': 3,\n",
    "    'B3': 2,\n",
    "    'other group': 1,\n",
    "}\n",
    "def emp(x):\n",
    "    if str(x) in Emp_dict_new.keys():\n",
    "        return str(x)\n",
    "    else:\n",
    "        return 'other group'\n",
    " \n",
    "data_l = attrdata[\"Emp. Group\"].apply(emp)\n",
    "attrdata['New EMP'] = data_l\n",
    "\n",
    "emp = pd.get_dummies(attrdata[\"New EMP\"], dtype=int)\n",
    "attrdata.head()"
   ]
  },
  {
   "cell_type": "code",
   "execution_count": 61,
   "id": "c411e888",
   "metadata": {},
   "outputs": [
    {
     "name": "stdout",
     "output_type": "stream",
     "text": [
      "   B1  B2  B3  other group\n",
      "0   0   1   0            0\n",
      "1   0   0   0            1\n",
      "2   0   0   1            0\n",
      "3   0   1   0            0\n",
      "4   0   1   0            0\n"
     ]
    }
   ],
   "source": [
    "print(emp.head())"
   ]
  },
  {
   "cell_type": "markdown",
   "id": "2f59e378",
   "metadata": {},
   "source": [
    "**Job Role Match**\n",
    "\n",
    "Here, we are using the **Job()** function where categorical values are **Yes and No** which needs to be converted into integer values **i.e. 1/0** then we are assigning the **New Job Role Match**."
   ]
  },
  {
   "cell_type": "code",
   "execution_count": 62,
   "id": "90e3d760",
   "metadata": {},
   "outputs": [
    {
     "data": {
      "text/html": [
       "<div>\n",
       "<style scoped>\n",
       "    .dataframe tbody tr th:only-of-type {\n",
       "        vertical-align: middle;\n",
       "    }\n",
       "\n",
       "    .dataframe tbody tr th {\n",
       "        vertical-align: top;\n",
       "    }\n",
       "\n",
       "    .dataframe thead th {\n",
       "        text-align: right;\n",
       "    }\n",
       "</style>\n",
       "<table border=\"1\" class=\"dataframe\">\n",
       "  <thead>\n",
       "    <tr style=\"text-align: right;\">\n",
       "      <th></th>\n",
       "      <th>table id</th>\n",
       "      <th>name</th>\n",
       "      <th>phone number</th>\n",
       "      <th>Location</th>\n",
       "      <th>Emp. Group</th>\n",
       "      <th>Function</th>\n",
       "      <th>Gender</th>\n",
       "      <th>Tenure</th>\n",
       "      <th>Tenure Grp.</th>\n",
       "      <th>Experience (YY.MM)</th>\n",
       "      <th>...</th>\n",
       "      <th>Age in YY.</th>\n",
       "      <th>Hiring Source</th>\n",
       "      <th>Promoted/Non Promoted</th>\n",
       "      <th>Job Role Match</th>\n",
       "      <th>Stay/Left</th>\n",
       "      <th>New Location</th>\n",
       "      <th>New Marital</th>\n",
       "      <th>New Promotion</th>\n",
       "      <th>New EMP</th>\n",
       "      <th>New Job Role Match</th>\n",
       "    </tr>\n",
       "  </thead>\n",
       "  <tbody>\n",
       "    <tr>\n",
       "      <th>0</th>\n",
       "      <td>1</td>\n",
       "      <td>sid</td>\n",
       "      <td>9876544345</td>\n",
       "      <td>Pune</td>\n",
       "      <td>B2</td>\n",
       "      <td>Operation</td>\n",
       "      <td>Male</td>\n",
       "      <td>0.00</td>\n",
       "      <td>&lt; =1</td>\n",
       "      <td>6.08</td>\n",
       "      <td>...</td>\n",
       "      <td>27.12</td>\n",
       "      <td>Direct</td>\n",
       "      <td>Non Promoted</td>\n",
       "      <td>Yes</td>\n",
       "      <td>Left</td>\n",
       "      <td>3</td>\n",
       "      <td>Single</td>\n",
       "      <td>0</td>\n",
       "      <td>B2</td>\n",
       "      <td>1</td>\n",
       "    </tr>\n",
       "    <tr>\n",
       "      <th>1</th>\n",
       "      <td>2</td>\n",
       "      <td>sid</td>\n",
       "      <td>9876544345</td>\n",
       "      <td>Noida</td>\n",
       "      <td>B7</td>\n",
       "      <td>Support</td>\n",
       "      <td>Male</td>\n",
       "      <td>0.00</td>\n",
       "      <td>&lt; =1</td>\n",
       "      <td>13.00</td>\n",
       "      <td>...</td>\n",
       "      <td>38.08</td>\n",
       "      <td>Direct</td>\n",
       "      <td>Promoted</td>\n",
       "      <td>No</td>\n",
       "      <td>Stay</td>\n",
       "      <td>6</td>\n",
       "      <td>Marr.</td>\n",
       "      <td>1</td>\n",
       "      <td>other group</td>\n",
       "      <td>0</td>\n",
       "    </tr>\n",
       "    <tr>\n",
       "      <th>2</th>\n",
       "      <td>3</td>\n",
       "      <td>sid</td>\n",
       "      <td>9876544345</td>\n",
       "      <td>Bangalore</td>\n",
       "      <td>B3</td>\n",
       "      <td>Operation</td>\n",
       "      <td>Male</td>\n",
       "      <td>0.01</td>\n",
       "      <td>&lt; =1</td>\n",
       "      <td>16.05</td>\n",
       "      <td>...</td>\n",
       "      <td>36.04</td>\n",
       "      <td>Direct</td>\n",
       "      <td>Promoted</td>\n",
       "      <td>Yes</td>\n",
       "      <td>Stay</td>\n",
       "      <td>5</td>\n",
       "      <td>Marr.</td>\n",
       "      <td>1</td>\n",
       "      <td>B3</td>\n",
       "      <td>1</td>\n",
       "    </tr>\n",
       "    <tr>\n",
       "      <th>3</th>\n",
       "      <td>4</td>\n",
       "      <td>sid</td>\n",
       "      <td>9876544345</td>\n",
       "      <td>Noida</td>\n",
       "      <td>B2</td>\n",
       "      <td>Operation</td>\n",
       "      <td>Male</td>\n",
       "      <td>0.01</td>\n",
       "      <td>&lt; =1</td>\n",
       "      <td>6.06</td>\n",
       "      <td>...</td>\n",
       "      <td>32.07</td>\n",
       "      <td>Direct</td>\n",
       "      <td>Promoted</td>\n",
       "      <td>Yes</td>\n",
       "      <td>Stay</td>\n",
       "      <td>6</td>\n",
       "      <td>Marr.</td>\n",
       "      <td>1</td>\n",
       "      <td>B2</td>\n",
       "      <td>1</td>\n",
       "    </tr>\n",
       "    <tr>\n",
       "      <th>4</th>\n",
       "      <td>5</td>\n",
       "      <td>sid</td>\n",
       "      <td>9876544345</td>\n",
       "      <td>Lucknow</td>\n",
       "      <td>B2</td>\n",
       "      <td>Operation</td>\n",
       "      <td>Male</td>\n",
       "      <td>0.00</td>\n",
       "      <td>&lt; =1</td>\n",
       "      <td>7.00</td>\n",
       "      <td>...</td>\n",
       "      <td>32.05</td>\n",
       "      <td>Direct</td>\n",
       "      <td>Non Promoted</td>\n",
       "      <td>Yes</td>\n",
       "      <td>Stay</td>\n",
       "      <td>1</td>\n",
       "      <td>Marr.</td>\n",
       "      <td>0</td>\n",
       "      <td>B2</td>\n",
       "      <td>1</td>\n",
       "    </tr>\n",
       "  </tbody>\n",
       "</table>\n",
       "<p>5 rows × 21 columns</p>\n",
       "</div>"
      ],
      "text/plain": [
       "   table id name  phone number   Location Emp. Group   Function Gender   \\\n",
       "0         1  sid    9876544345       Pune         B2  Operation    Male   \n",
       "1         2  sid    9876544345      Noida         B7    Support    Male   \n",
       "2         3  sid    9876544345  Bangalore         B3  Operation    Male   \n",
       "3         4  sid    9876544345      Noida         B2  Operation    Male   \n",
       "4         5  sid    9876544345    Lucknow         B2  Operation    Male   \n",
       "\n",
       "   Tenure Tenure Grp.  Experience (YY.MM)  ... Age in YY.  Hiring Source  \\\n",
       "0    0.00        < =1                6.08  ...      27.12         Direct   \n",
       "1    0.00        < =1               13.00  ...      38.08         Direct   \n",
       "2    0.01        < =1               16.05  ...      36.04         Direct   \n",
       "3    0.01        < =1                6.06  ...      32.07         Direct   \n",
       "4    0.00        < =1                7.00  ...      32.05         Direct   \n",
       "\n",
       "  Promoted/Non Promoted Job Role Match Stay/Left New Location  New Marital  \\\n",
       "0          Non Promoted            Yes      Left            3       Single   \n",
       "1              Promoted             No      Stay            6        Marr.   \n",
       "2              Promoted            Yes      Stay            5        Marr.   \n",
       "3              Promoted            Yes      Stay            6        Marr.   \n",
       "4          Non Promoted            Yes      Stay            1        Marr.   \n",
       "\n",
       "  New Promotion      New EMP New Job Role Match  \n",
       "0             0           B2                  1  \n",
       "1             1  other group                  0  \n",
       "2             1           B3                  1  \n",
       "3             1           B2                  1  \n",
       "4             0           B2                  1  \n",
       "\n",
       "[5 rows x 21 columns]"
      ]
     },
     "execution_count": 62,
     "metadata": {},
     "output_type": "execute_result"
    }
   ],
   "source": [
    "def Job(x):\n",
    "    if x == 'Yes':\n",
    "        return int(1)\n",
    "    else:\n",
    "        return int(0)\n",
    "    \n",
    "data_l = attrdata[\"Job Role Match\"].apply(Job)\n",
    "attrdata['New Job Role Match'] = data_l\n",
    "attrdata.head()"
   ]
  },
  {
   "cell_type": "markdown",
   "id": "ce7d87aa",
   "metadata": {},
   "source": [
    "**Gender**\n",
    "\n",
    "Here, we are using the **Gen()** function using **gender_counts (dictionary)** which will be encoded first using the **dictionary keys**, and then the changes will be applied to the dataset based on changes that are done."
   ]
  },
  {
   "cell_type": "code",
   "execution_count": 63,
   "id": "ce199bb3",
   "metadata": {},
   "outputs": [
    {
     "data": {
      "text/html": [
       "<div>\n",
       "<style scoped>\n",
       "    .dataframe tbody tr th:only-of-type {\n",
       "        vertical-align: middle;\n",
       "    }\n",
       "\n",
       "    .dataframe tbody tr th {\n",
       "        vertical-align: top;\n",
       "    }\n",
       "\n",
       "    .dataframe thead th {\n",
       "        text-align: right;\n",
       "    }\n",
       "</style>\n",
       "<table border=\"1\" class=\"dataframe\">\n",
       "  <thead>\n",
       "    <tr style=\"text-align: right;\">\n",
       "      <th></th>\n",
       "      <th>table id</th>\n",
       "      <th>name</th>\n",
       "      <th>phone number</th>\n",
       "      <th>Location</th>\n",
       "      <th>Emp. Group</th>\n",
       "      <th>Function</th>\n",
       "      <th>Gender</th>\n",
       "      <th>Tenure</th>\n",
       "      <th>Tenure Grp.</th>\n",
       "      <th>Experience (YY.MM)</th>\n",
       "      <th>...</th>\n",
       "      <th>Hiring Source</th>\n",
       "      <th>Promoted/Non Promoted</th>\n",
       "      <th>Job Role Match</th>\n",
       "      <th>Stay/Left</th>\n",
       "      <th>New Location</th>\n",
       "      <th>New Marital</th>\n",
       "      <th>New Promotion</th>\n",
       "      <th>New EMP</th>\n",
       "      <th>New Job Role Match</th>\n",
       "      <th>New Gender</th>\n",
       "    </tr>\n",
       "  </thead>\n",
       "  <tbody>\n",
       "    <tr>\n",
       "      <th>0</th>\n",
       "      <td>1</td>\n",
       "      <td>sid</td>\n",
       "      <td>9876544345</td>\n",
       "      <td>Pune</td>\n",
       "      <td>B2</td>\n",
       "      <td>Operation</td>\n",
       "      <td>Male</td>\n",
       "      <td>0.00</td>\n",
       "      <td>&lt; =1</td>\n",
       "      <td>6.08</td>\n",
       "      <td>...</td>\n",
       "      <td>Direct</td>\n",
       "      <td>Non Promoted</td>\n",
       "      <td>Yes</td>\n",
       "      <td>Left</td>\n",
       "      <td>3</td>\n",
       "      <td>Single</td>\n",
       "      <td>0</td>\n",
       "      <td>B2</td>\n",
       "      <td>1</td>\n",
       "      <td>Male</td>\n",
       "    </tr>\n",
       "    <tr>\n",
       "      <th>1</th>\n",
       "      <td>2</td>\n",
       "      <td>sid</td>\n",
       "      <td>9876544345</td>\n",
       "      <td>Noida</td>\n",
       "      <td>B7</td>\n",
       "      <td>Support</td>\n",
       "      <td>Male</td>\n",
       "      <td>0.00</td>\n",
       "      <td>&lt; =1</td>\n",
       "      <td>13.00</td>\n",
       "      <td>...</td>\n",
       "      <td>Direct</td>\n",
       "      <td>Promoted</td>\n",
       "      <td>No</td>\n",
       "      <td>Stay</td>\n",
       "      <td>6</td>\n",
       "      <td>Marr.</td>\n",
       "      <td>1</td>\n",
       "      <td>other group</td>\n",
       "      <td>0</td>\n",
       "      <td>Male</td>\n",
       "    </tr>\n",
       "    <tr>\n",
       "      <th>2</th>\n",
       "      <td>3</td>\n",
       "      <td>sid</td>\n",
       "      <td>9876544345</td>\n",
       "      <td>Bangalore</td>\n",
       "      <td>B3</td>\n",
       "      <td>Operation</td>\n",
       "      <td>Male</td>\n",
       "      <td>0.01</td>\n",
       "      <td>&lt; =1</td>\n",
       "      <td>16.05</td>\n",
       "      <td>...</td>\n",
       "      <td>Direct</td>\n",
       "      <td>Promoted</td>\n",
       "      <td>Yes</td>\n",
       "      <td>Stay</td>\n",
       "      <td>5</td>\n",
       "      <td>Marr.</td>\n",
       "      <td>1</td>\n",
       "      <td>B3</td>\n",
       "      <td>1</td>\n",
       "      <td>Male</td>\n",
       "    </tr>\n",
       "    <tr>\n",
       "      <th>3</th>\n",
       "      <td>4</td>\n",
       "      <td>sid</td>\n",
       "      <td>9876544345</td>\n",
       "      <td>Noida</td>\n",
       "      <td>B2</td>\n",
       "      <td>Operation</td>\n",
       "      <td>Male</td>\n",
       "      <td>0.01</td>\n",
       "      <td>&lt; =1</td>\n",
       "      <td>6.06</td>\n",
       "      <td>...</td>\n",
       "      <td>Direct</td>\n",
       "      <td>Promoted</td>\n",
       "      <td>Yes</td>\n",
       "      <td>Stay</td>\n",
       "      <td>6</td>\n",
       "      <td>Marr.</td>\n",
       "      <td>1</td>\n",
       "      <td>B2</td>\n",
       "      <td>1</td>\n",
       "      <td>Male</td>\n",
       "    </tr>\n",
       "    <tr>\n",
       "      <th>4</th>\n",
       "      <td>5</td>\n",
       "      <td>sid</td>\n",
       "      <td>9876544345</td>\n",
       "      <td>Lucknow</td>\n",
       "      <td>B2</td>\n",
       "      <td>Operation</td>\n",
       "      <td>Male</td>\n",
       "      <td>0.00</td>\n",
       "      <td>&lt; =1</td>\n",
       "      <td>7.00</td>\n",
       "      <td>...</td>\n",
       "      <td>Direct</td>\n",
       "      <td>Non Promoted</td>\n",
       "      <td>Yes</td>\n",
       "      <td>Stay</td>\n",
       "      <td>1</td>\n",
       "      <td>Marr.</td>\n",
       "      <td>0</td>\n",
       "      <td>B2</td>\n",
       "      <td>1</td>\n",
       "      <td>Male</td>\n",
       "    </tr>\n",
       "  </tbody>\n",
       "</table>\n",
       "<p>5 rows × 22 columns</p>\n",
       "</div>"
      ],
      "text/plain": [
       "   table id name  phone number   Location Emp. Group   Function Gender   \\\n",
       "0         1  sid    9876544345       Pune         B2  Operation    Male   \n",
       "1         2  sid    9876544345      Noida         B7    Support    Male   \n",
       "2         3  sid    9876544345  Bangalore         B3  Operation    Male   \n",
       "3         4  sid    9876544345      Noida         B2  Operation    Male   \n",
       "4         5  sid    9876544345    Lucknow         B2  Operation    Male   \n",
       "\n",
       "   Tenure Tenure Grp.  Experience (YY.MM)  ... Hiring Source  \\\n",
       "0    0.00        < =1                6.08  ...        Direct   \n",
       "1    0.00        < =1               13.00  ...        Direct   \n",
       "2    0.01        < =1               16.05  ...        Direct   \n",
       "3    0.01        < =1                6.06  ...        Direct   \n",
       "4    0.00        < =1                7.00  ...        Direct   \n",
       "\n",
       "   Promoted/Non Promoted Job Role Match Stay/Left New Location New Marital  \\\n",
       "0           Non Promoted            Yes      Left            3      Single   \n",
       "1               Promoted             No      Stay            6       Marr.   \n",
       "2               Promoted            Yes      Stay            5       Marr.   \n",
       "3               Promoted            Yes      Stay            6       Marr.   \n",
       "4           Non Promoted            Yes      Stay            1       Marr.   \n",
       "\n",
       "   New Promotion      New EMP  New Job Role Match New Gender  \n",
       "0              0           B2                   1       Male  \n",
       "1              1  other group                   0       Male  \n",
       "2              1           B3                   1       Male  \n",
       "3              1           B2                   1       Male  \n",
       "4              0           B2                   1       Male  \n",
       "\n",
       "[5 rows x 22 columns]"
      ]
     },
     "execution_count": 63,
     "metadata": {},
     "output_type": "execute_result"
    }
   ],
   "source": [
    "def Gen(x):\n",
    "    if x in gender_counts.keys():\n",
    "        return str(x)\n",
    "    else:\n",
    "        return 'other'\n",
    "\n",
    "data_l = attrdata[\"Gender \"].apply(Gen)\n",
    "attrdata['New Gender'] = data_l\n",
    "attrdata.head()"
   ]
  },
  {
   "cell_type": "markdown",
   "id": "4288b1e1",
   "metadata": {},
   "source": [
    "**get_dummies()** function for the same purposes for **New gender** and **Tenure groups**."
   ]
  },
  {
   "cell_type": "code",
   "execution_count": 64,
   "id": "60ec0967",
   "metadata": {},
   "outputs": [
    {
     "data": {
      "text/html": [
       "<div>\n",
       "<style scoped>\n",
       "    .dataframe tbody tr th:only-of-type {\n",
       "        vertical-align: middle;\n",
       "    }\n",
       "\n",
       "    .dataframe tbody tr th {\n",
       "        vertical-align: top;\n",
       "    }\n",
       "\n",
       "    .dataframe thead th {\n",
       "        text-align: right;\n",
       "    }\n",
       "</style>\n",
       "<table border=\"1\" class=\"dataframe\">\n",
       "  <thead>\n",
       "    <tr style=\"text-align: right;\">\n",
       "      <th></th>\n",
       "      <th>Female</th>\n",
       "      <th>Male</th>\n",
       "      <th>other</th>\n",
       "    </tr>\n",
       "  </thead>\n",
       "  <tbody>\n",
       "    <tr>\n",
       "      <th>0</th>\n",
       "      <td>0</td>\n",
       "      <td>1</td>\n",
       "      <td>0</td>\n",
       "    </tr>\n",
       "    <tr>\n",
       "      <th>1</th>\n",
       "      <td>0</td>\n",
       "      <td>1</td>\n",
       "      <td>0</td>\n",
       "    </tr>\n",
       "    <tr>\n",
       "      <th>2</th>\n",
       "      <td>0</td>\n",
       "      <td>1</td>\n",
       "      <td>0</td>\n",
       "    </tr>\n",
       "    <tr>\n",
       "      <th>3</th>\n",
       "      <td>0</td>\n",
       "      <td>1</td>\n",
       "      <td>0</td>\n",
       "    </tr>\n",
       "    <tr>\n",
       "      <th>4</th>\n",
       "      <td>0</td>\n",
       "      <td>1</td>\n",
       "      <td>0</td>\n",
       "    </tr>\n",
       "  </tbody>\n",
       "</table>\n",
       "</div>"
      ],
      "text/plain": [
       "   Female  Male  other\n",
       "0       0     1      0\n",
       "1       0     1      0\n",
       "2       0     1      0\n",
       "3       0     1      0\n",
       "4       0     1      0"
      ]
     },
     "execution_count": 64,
     "metadata": {},
     "output_type": "execute_result"
    }
   ],
   "source": [
    "gend = pd.get_dummies(attrdata[\"New Gender\"], dtype=int)\n",
    "gend.head()"
   ]
  },
  {
   "cell_type": "code",
   "execution_count": 65,
   "id": "09aa005b",
   "metadata": {},
   "outputs": [
    {
     "data": {
      "text/html": [
       "<div>\n",
       "<style scoped>\n",
       "    .dataframe tbody tr th:only-of-type {\n",
       "        vertical-align: middle;\n",
       "    }\n",
       "\n",
       "    .dataframe tbody tr th {\n",
       "        vertical-align: top;\n",
       "    }\n",
       "\n",
       "    .dataframe thead th {\n",
       "        text-align: right;\n",
       "    }\n",
       "</style>\n",
       "<table border=\"1\" class=\"dataframe\">\n",
       "  <thead>\n",
       "    <tr style=\"text-align: right;\">\n",
       "      <th></th>\n",
       "      <th>&lt; =1</th>\n",
       "      <th>&gt; 1 &amp; &lt; =3</th>\n",
       "    </tr>\n",
       "  </thead>\n",
       "  <tbody>\n",
       "    <tr>\n",
       "      <th>0</th>\n",
       "      <td>1</td>\n",
       "      <td>0</td>\n",
       "    </tr>\n",
       "    <tr>\n",
       "      <th>1</th>\n",
       "      <td>1</td>\n",
       "      <td>0</td>\n",
       "    </tr>\n",
       "    <tr>\n",
       "      <th>2</th>\n",
       "      <td>1</td>\n",
       "      <td>0</td>\n",
       "    </tr>\n",
       "    <tr>\n",
       "      <th>3</th>\n",
       "      <td>1</td>\n",
       "      <td>0</td>\n",
       "    </tr>\n",
       "    <tr>\n",
       "      <th>4</th>\n",
       "      <td>1</td>\n",
       "      <td>0</td>\n",
       "    </tr>\n",
       "  </tbody>\n",
       "</table>\n",
       "</div>"
      ],
      "text/plain": [
       "   < =1  > 1 & < =3\n",
       "0     1           0\n",
       "1     1           0\n",
       "2     1           0\n",
       "3     1           0\n",
       "4     1           0"
      ]
     },
     "execution_count": 65,
     "metadata": {},
     "output_type": "execute_result"
    }
   ],
   "source": [
    "tengrp = pd.get_dummies(attrdata[\"Tenure Grp.\"], dtype=int)\n",
    "tengrp.head()"
   ]
  },
  {
   "cell_type": "markdown",
   "id": "95bc21a6",
   "metadata": {},
   "source": [
    "Now, let’s concatenate the columns which are being cleaned, sorted, and manipulated by us as processed data."
   ]
  },
  {
   "cell_type": "code",
   "execution_count": 66,
   "id": "496d3bce",
   "metadata": {},
   "outputs": [
    {
     "data": {
      "text/html": [
       "<div>\n",
       "<style scoped>\n",
       "    .dataframe tbody tr th:only-of-type {\n",
       "        vertical-align: middle;\n",
       "    }\n",
       "\n",
       "    .dataframe tbody tr th {\n",
       "        vertical-align: top;\n",
       "    }\n",
       "\n",
       "    .dataframe thead th {\n",
       "        text-align: right;\n",
       "    }\n",
       "</style>\n",
       "<table border=\"1\" class=\"dataframe\">\n",
       "  <thead>\n",
       "    <tr style=\"text-align: right;\">\n",
       "      <th></th>\n",
       "      <th>table id</th>\n",
       "      <th>name</th>\n",
       "      <th>phone number</th>\n",
       "      <th>Location</th>\n",
       "      <th>Emp. Group</th>\n",
       "      <th>Function</th>\n",
       "      <th>Gender</th>\n",
       "      <th>Tenure</th>\n",
       "      <th>Tenure Grp.</th>\n",
       "      <th>Experience (YY.MM)</th>\n",
       "      <th>...</th>\n",
       "      <th>B3</th>\n",
       "      <th>other group</th>\n",
       "      <th>&lt; =1</th>\n",
       "      <th>&gt; 1 &amp; &lt; =3</th>\n",
       "      <th>Operation</th>\n",
       "      <th>Sales</th>\n",
       "      <th>Support</th>\n",
       "      <th>Female</th>\n",
       "      <th>Male</th>\n",
       "      <th>other</th>\n",
       "    </tr>\n",
       "  </thead>\n",
       "  <tbody>\n",
       "    <tr>\n",
       "      <th>0</th>\n",
       "      <td>1</td>\n",
       "      <td>sid</td>\n",
       "      <td>9876544345</td>\n",
       "      <td>Pune</td>\n",
       "      <td>B2</td>\n",
       "      <td>Operation</td>\n",
       "      <td>Male</td>\n",
       "      <td>0.00</td>\n",
       "      <td>&lt; =1</td>\n",
       "      <td>6.08</td>\n",
       "      <td>...</td>\n",
       "      <td>0</td>\n",
       "      <td>0</td>\n",
       "      <td>1</td>\n",
       "      <td>0</td>\n",
       "      <td>1</td>\n",
       "      <td>0</td>\n",
       "      <td>0</td>\n",
       "      <td>0</td>\n",
       "      <td>1</td>\n",
       "      <td>0</td>\n",
       "    </tr>\n",
       "    <tr>\n",
       "      <th>1</th>\n",
       "      <td>2</td>\n",
       "      <td>sid</td>\n",
       "      <td>9876544345</td>\n",
       "      <td>Noida</td>\n",
       "      <td>B7</td>\n",
       "      <td>Support</td>\n",
       "      <td>Male</td>\n",
       "      <td>0.00</td>\n",
       "      <td>&lt; =1</td>\n",
       "      <td>13.00</td>\n",
       "      <td>...</td>\n",
       "      <td>0</td>\n",
       "      <td>1</td>\n",
       "      <td>1</td>\n",
       "      <td>0</td>\n",
       "      <td>0</td>\n",
       "      <td>0</td>\n",
       "      <td>1</td>\n",
       "      <td>0</td>\n",
       "      <td>1</td>\n",
       "      <td>0</td>\n",
       "    </tr>\n",
       "    <tr>\n",
       "      <th>2</th>\n",
       "      <td>3</td>\n",
       "      <td>sid</td>\n",
       "      <td>9876544345</td>\n",
       "      <td>Bangalore</td>\n",
       "      <td>B3</td>\n",
       "      <td>Operation</td>\n",
       "      <td>Male</td>\n",
       "      <td>0.01</td>\n",
       "      <td>&lt; =1</td>\n",
       "      <td>16.05</td>\n",
       "      <td>...</td>\n",
       "      <td>1</td>\n",
       "      <td>0</td>\n",
       "      <td>1</td>\n",
       "      <td>0</td>\n",
       "      <td>1</td>\n",
       "      <td>0</td>\n",
       "      <td>0</td>\n",
       "      <td>0</td>\n",
       "      <td>1</td>\n",
       "      <td>0</td>\n",
       "    </tr>\n",
       "    <tr>\n",
       "      <th>3</th>\n",
       "      <td>4</td>\n",
       "      <td>sid</td>\n",
       "      <td>9876544345</td>\n",
       "      <td>Noida</td>\n",
       "      <td>B2</td>\n",
       "      <td>Operation</td>\n",
       "      <td>Male</td>\n",
       "      <td>0.01</td>\n",
       "      <td>&lt; =1</td>\n",
       "      <td>6.06</td>\n",
       "      <td>...</td>\n",
       "      <td>0</td>\n",
       "      <td>0</td>\n",
       "      <td>1</td>\n",
       "      <td>0</td>\n",
       "      <td>1</td>\n",
       "      <td>0</td>\n",
       "      <td>0</td>\n",
       "      <td>0</td>\n",
       "      <td>1</td>\n",
       "      <td>0</td>\n",
       "    </tr>\n",
       "    <tr>\n",
       "      <th>4</th>\n",
       "      <td>5</td>\n",
       "      <td>sid</td>\n",
       "      <td>9876544345</td>\n",
       "      <td>Lucknow</td>\n",
       "      <td>B2</td>\n",
       "      <td>Operation</td>\n",
       "      <td>Male</td>\n",
       "      <td>0.00</td>\n",
       "      <td>&lt; =1</td>\n",
       "      <td>7.00</td>\n",
       "      <td>...</td>\n",
       "      <td>0</td>\n",
       "      <td>0</td>\n",
       "      <td>1</td>\n",
       "      <td>0</td>\n",
       "      <td>1</td>\n",
       "      <td>0</td>\n",
       "      <td>0</td>\n",
       "      <td>0</td>\n",
       "      <td>1</td>\n",
       "      <td>0</td>\n",
       "    </tr>\n",
       "  </tbody>\n",
       "</table>\n",
       "<p>5 rows × 40 columns</p>\n",
       "</div>"
      ],
      "text/plain": [
       "   table id name  phone number   Location Emp. Group   Function Gender   \\\n",
       "0         1  sid    9876544345       Pune         B2  Operation    Male   \n",
       "1         2  sid    9876544345      Noida         B7    Support    Male   \n",
       "2         3  sid    9876544345  Bangalore         B3  Operation    Male   \n",
       "3         4  sid    9876544345      Noida         B2  Operation    Male   \n",
       "4         5  sid    9876544345    Lucknow         B2  Operation    Male   \n",
       "\n",
       "   Tenure Tenure Grp.  Experience (YY.MM)  ... B3  other group < =1  \\\n",
       "0    0.00        < =1                6.08  ...  0            0    1   \n",
       "1    0.00        < =1               13.00  ...  0            1    1   \n",
       "2    0.01        < =1               16.05  ...  1            0    1   \n",
       "3    0.01        < =1                6.06  ...  0            0    1   \n",
       "4    0.00        < =1                7.00  ...  0            0    1   \n",
       "\n",
       "  > 1 & < =3 Operation Sales  Support Female  Male other  \n",
       "0          0         1     0        0      0     1     0  \n",
       "1          0         0     0        1      0     1     0  \n",
       "2          0         1     0        0      0     1     0  \n",
       "3          0         1     0        0      0     1     0  \n",
       "4          0         1     0        0      0     1     0  \n",
       "\n",
       "[5 rows x 40 columns]"
      ]
     },
     "execution_count": 66,
     "metadata": {},
     "output_type": "execute_result"
    }
   ],
   "source": [
    "dataset = pd.concat([attrdata, hr, Mr, emp, tengrp, gen, gend], axis = 1)\n",
    "dataset.head()"
   ]
  },
  {
   "cell_type": "code",
   "execution_count": 67,
   "id": "550a5e49",
   "metadata": {},
   "outputs": [
    {
     "data": {
      "text/plain": [
       "Index(['table id', 'name', 'phone number', 'Location', 'Emp. Group',\n",
       "       'Function', 'Gender ', 'Tenure', 'Tenure Grp.', 'Experience (YY.MM)',\n",
       "       'Marital Status', 'Age in YY.', 'Hiring Source',\n",
       "       'Promoted/Non Promoted', 'Job Role Match', 'Stay/Left', 'New Location',\n",
       "       'New Marital', 'New Promotion', 'New EMP', 'New Job Role Match',\n",
       "       'New Gender', 'Agency', 'Direct', 'Employee Referral', 'Marr.',\n",
       "       'Single', 'other status', 'B1', 'B2', 'B3', 'other group', '< =1',\n",
       "       '> 1 & < =3', 'Operation', 'Sales', 'Support', 'Female', 'Male',\n",
       "       'other'],\n",
       "      dtype='object')"
      ]
     },
     "execution_count": 67,
     "metadata": {},
     "output_type": "execute_result"
    }
   ],
   "source": [
    "dataset.columns"
   ]
  },
  {
   "cell_type": "markdown",
   "id": "c0c86597",
   "metadata": {},
   "source": [
    "\n",
    "Let’s drop the columns which are not important anymore"
   ]
  },
  {
   "cell_type": "code",
   "execution_count": 68,
   "id": "65bb89fb",
   "metadata": {},
   "outputs": [
    {
     "data": {
      "text/plain": [
       "Index(['Experience (YY.MM)', 'Age in YY.', 'Stay/Left', 'New Location',\n",
       "       'New Promotion', 'New Job Role Match', 'Agency', 'Direct',\n",
       "       'Employee Referral', 'Marr.', 'Single', 'other status', 'B1', 'B2',\n",
       "       'B3', 'other group', '< =1', '> 1 & < =3', 'Operation', 'Sales',\n",
       "       'Support', 'Female', 'Male', 'other'],\n",
       "      dtype='object')"
      ]
     },
     "execution_count": 68,
     "metadata": {},
     "output_type": "execute_result"
    }
   ],
   "source": [
    "dataset.drop([\"table id\", \"name\", \"Marital Status\",\"Promoted/Non Promoted\",\"Function\",\"Emp. Group\",\"Job Role Match\",\"Location\"\n",
    "              ,\"Hiring Source\",\"Gender \", 'Tenure', 'New Gender', 'New Marital', 'New EMP'],axis=1,inplace=True)\n",
    "\n",
    "dataset1 = dataset.drop(['Tenure Grp.', 'phone number'], axis = 1)\n",
    "dataset1.columns"
   ]
  },
  {
   "cell_type": "markdown",
   "id": "8f46fcc7",
   "metadata": {},
   "source": [
    "As I mentioned, this is the correlation plot on the processed dataset."
   ]
  },
  {
   "cell_type": "code",
   "execution_count": 70,
   "id": "00a4cd22",
   "metadata": {},
   "outputs": [
    {
     "data": {
      "image/png": "[encoded data removed]",
      "text/plain": [
       "<Figure size 1500x1000 with 2 Axes>"
      ]
     },
     "metadata": {},
     "output_type": "display_data"
    }
   ],
   "source": [
    "# Select only numeric columns\n",
    "numeric_data = dataset1.select_dtypes(include='number')\n",
    "\n",
    "# Compute correlation matrix on numeric data\n",
    "corr_matrix = numeric_data.corr()\n",
    "\n",
    "# Plot heatmap\n",
    "import matplotlib.pyplot as plt\n",
    "import seaborn as sns\n",
    "\n",
    "fig, ax = plt.subplots(figsize=(15,10))\n",
    "sns.heatmap(corr_matrix,\n",
    "            annot=True,\n",
    "            linewidths=0.5,\n",
    "            fmt=\".2f\",\n",
    "            ax=ax)\n",
    "plt.show()\n"
   ]
  },
  {
   "cell_type": "markdown",
   "id": "627b179a",
   "metadata": {},
   "source": [
    "Let’s see our target column"
   ]
  },
  {
   "cell_type": "code",
   "execution_count": 71,
   "id": "8a596992",
   "metadata": {},
   "outputs": [
    {
     "data": {
      "text/plain": [
       "0    Left\n",
       "1    Stay\n",
       "2    Stay\n",
       "3    Stay\n",
       "4    Stay\n",
       "Name: Stay/Left, dtype: object"
      ]
     },
     "execution_count": 71,
     "metadata": {},
     "output_type": "execute_result"
    }
   ],
   "source": [
    "# Target \n",
    "\"\"\"\n",
    "def Target(x):\n",
    "    if x in \"Stay\":\n",
    "        return False\n",
    "    else:\n",
    "        return True\n",
    "    \n",
    "data_l = dataset1[\"Stay/Left\"].apply(Target)\n",
    "dataset1['Stay/Left'] = data_l\n",
    "\"\"\"\n",
    "dataset1['Stay/Left'].head()"
   ]
  },
  {
   "cell_type": "markdown",
   "id": "f8c4c450",
   "metadata": {},
   "source": [
    "Saving the cleaned dataset into another CSV file"
   ]
  },
  {
   "cell_type": "code",
   "execution_count": 72,
   "id": "b6d1070c",
   "metadata": {},
   "outputs": [],
   "source": [
    "dataset1.to_csv(\"processed table.csv\")"
   ]
  },
  {
   "cell_type": "markdown",
   "id": "beb8a079",
   "metadata": {},
   "source": [
    "Now, from the processed data we have to separate the features and target column again."
   ]
  },
  {
   "cell_type": "code",
   "execution_count": 73,
   "id": "2c15bf08",
   "metadata": {},
   "outputs": [],
   "source": [
    "dataset = pd.read_csv(\"processed table.csv\")\n",
    "dataset = pd.DataFrame(dataset)\n",
    "y = dataset[\"Stay/Left\"]\n",
    "X = dataset.drop(\"Stay/Left\",axis=1)"
   ]
  },
  {
   "cell_type": "code",
   "execution_count": 74,
   "id": "cee23283",
   "metadata": {},
   "outputs": [
    {
     "data": {
      "text/html": [
       "<div>\n",
       "<style scoped>\n",
       "    .dataframe tbody tr th:only-of-type {\n",
       "        vertical-align: middle;\n",
       "    }\n",
       "\n",
       "    .dataframe tbody tr th {\n",
       "        vertical-align: top;\n",
       "    }\n",
       "\n",
       "    .dataframe thead th {\n",
       "        text-align: right;\n",
       "    }\n",
       "</style>\n",
       "<table border=\"1\" class=\"dataframe\">\n",
       "  <thead>\n",
       "    <tr style=\"text-align: right;\">\n",
       "      <th></th>\n",
       "      <th>Unnamed: 0</th>\n",
       "      <th>Experience (YY.MM)</th>\n",
       "      <th>Age in YY.</th>\n",
       "      <th>New Location</th>\n",
       "      <th>New Promotion</th>\n",
       "      <th>New Job Role Match</th>\n",
       "      <th>Agency</th>\n",
       "      <th>Direct</th>\n",
       "      <th>Employee Referral</th>\n",
       "      <th>Marr.</th>\n",
       "      <th>...</th>\n",
       "      <th>B3</th>\n",
       "      <th>other group</th>\n",
       "      <th>&lt; =1</th>\n",
       "      <th>&gt; 1 &amp; &lt; =3</th>\n",
       "      <th>Operation</th>\n",
       "      <th>Sales</th>\n",
       "      <th>Support</th>\n",
       "      <th>Female</th>\n",
       "      <th>Male</th>\n",
       "      <th>other</th>\n",
       "    </tr>\n",
       "  </thead>\n",
       "  <tbody>\n",
       "    <tr>\n",
       "      <th>385</th>\n",
       "      <td>385</td>\n",
       "      <td>7.05</td>\n",
       "      <td>30.02</td>\n",
       "      <td>6</td>\n",
       "      <td>0</td>\n",
       "      <td>1</td>\n",
       "      <td>0</td>\n",
       "      <td>1</td>\n",
       "      <td>0</td>\n",
       "      <td>0</td>\n",
       "      <td>...</td>\n",
       "      <td>0</td>\n",
       "      <td>0</td>\n",
       "      <td>0</td>\n",
       "      <td>1</td>\n",
       "      <td>1</td>\n",
       "      <td>0</td>\n",
       "      <td>0</td>\n",
       "      <td>0</td>\n",
       "      <td>1</td>\n",
       "      <td>0</td>\n",
       "    </tr>\n",
       "    <tr>\n",
       "      <th>215</th>\n",
       "      <td>215</td>\n",
       "      <td>3.07</td>\n",
       "      <td>24.03</td>\n",
       "      <td>6</td>\n",
       "      <td>0</td>\n",
       "      <td>0</td>\n",
       "      <td>0</td>\n",
       "      <td>1</td>\n",
       "      <td>0</td>\n",
       "      <td>0</td>\n",
       "      <td>...</td>\n",
       "      <td>0</td>\n",
       "      <td>0</td>\n",
       "      <td>1</td>\n",
       "      <td>0</td>\n",
       "      <td>0</td>\n",
       "      <td>0</td>\n",
       "      <td>1</td>\n",
       "      <td>0</td>\n",
       "      <td>1</td>\n",
       "      <td>0</td>\n",
       "    </tr>\n",
       "    <tr>\n",
       "      <th>399</th>\n",
       "      <td>399</td>\n",
       "      <td>5.00</td>\n",
       "      <td>29.02</td>\n",
       "      <td>3</td>\n",
       "      <td>0</td>\n",
       "      <td>1</td>\n",
       "      <td>0</td>\n",
       "      <td>1</td>\n",
       "      <td>0</td>\n",
       "      <td>1</td>\n",
       "      <td>...</td>\n",
       "      <td>0</td>\n",
       "      <td>0</td>\n",
       "      <td>0</td>\n",
       "      <td>1</td>\n",
       "      <td>1</td>\n",
       "      <td>0</td>\n",
       "      <td>0</td>\n",
       "      <td>0</td>\n",
       "      <td>1</td>\n",
       "      <td>0</td>\n",
       "    </tr>\n",
       "    <tr>\n",
       "      <th>411</th>\n",
       "      <td>411</td>\n",
       "      <td>3.08</td>\n",
       "      <td>30.10</td>\n",
       "      <td>6</td>\n",
       "      <td>1</td>\n",
       "      <td>0</td>\n",
       "      <td>0</td>\n",
       "      <td>1</td>\n",
       "      <td>0</td>\n",
       "      <td>0</td>\n",
       "      <td>...</td>\n",
       "      <td>0</td>\n",
       "      <td>0</td>\n",
       "      <td>0</td>\n",
       "      <td>1</td>\n",
       "      <td>1</td>\n",
       "      <td>0</td>\n",
       "      <td>0</td>\n",
       "      <td>1</td>\n",
       "      <td>0</td>\n",
       "      <td>0</td>\n",
       "    </tr>\n",
       "    <tr>\n",
       "      <th>354</th>\n",
       "      <td>354</td>\n",
       "      <td>8.04</td>\n",
       "      <td>29.06</td>\n",
       "      <td>5</td>\n",
       "      <td>1</td>\n",
       "      <td>1</td>\n",
       "      <td>0</td>\n",
       "      <td>1</td>\n",
       "      <td>0</td>\n",
       "      <td>0</td>\n",
       "      <td>...</td>\n",
       "      <td>0</td>\n",
       "      <td>0</td>\n",
       "      <td>0</td>\n",
       "      <td>1</td>\n",
       "      <td>1</td>\n",
       "      <td>0</td>\n",
       "      <td>0</td>\n",
       "      <td>0</td>\n",
       "      <td>1</td>\n",
       "      <td>0</td>\n",
       "    </tr>\n",
       "  </tbody>\n",
       "</table>\n",
       "<p>5 rows × 24 columns</p>\n",
       "</div>"
      ],
      "text/plain": [
       "     Unnamed: 0  Experience (YY.MM)  Age in YY.  New Location  New Promotion  \\\n",
       "385         385                7.05       30.02             6              0   \n",
       "215         215                3.07       24.03             6              0   \n",
       "399         399                5.00       29.02             3              0   \n",
       "411         411                3.08       30.10             6              1   \n",
       "354         354                8.04       29.06             5              1   \n",
       "\n",
       "     New Job Role Match  Agency  Direct  Employee Referral  Marr.  ...  B3  \\\n",
       "385                   1       0       1                  0      0  ...   0   \n",
       "215                   0       0       1                  0      0  ...   0   \n",
       "399                   1       0       1                  0      1  ...   0   \n",
       "411                   0       0       1                  0      0  ...   0   \n",
       "354                   1       0       1                  0      0  ...   0   \n",
       "\n",
       "     other group  < =1  > 1 & < =3  Operation  Sales  Support  Female  Male  \\\n",
       "385            0     0           1          1      0        0       0     1   \n",
       "215            0     1           0          0      0        1       0     1   \n",
       "399            0     0           1          1      0        0       0     1   \n",
       "411            0     0           1          1      0        0       1     0   \n",
       "354            0     0           1          1      0        0       0     1   \n",
       "\n",
       "     other  \n",
       "385      0  \n",
       "215      0  \n",
       "399      0  \n",
       "411      0  \n",
       "354      0  \n",
       "\n",
       "[5 rows x 24 columns]"
      ]
     },
     "execution_count": 74,
     "metadata": {},
     "output_type": "execute_result"
    }
   ],
   "source": [
    "##Splitting data – Train test split\n",
    "\n",
    "X_train,X_test,y_train,y_test = train_test_split(X,y,test_size=0.2,random_state=4)\n",
    "X_train.head()"
   ]
  },
  {
   "cell_type": "markdown",
   "id": "b9bae66c",
   "metadata": {},
   "source": [
    "## Model Development"
   ]
  },
  {
   "cell_type": "code",
   "execution_count": 75,
   "id": "bbf18601",
   "metadata": {},
   "outputs": [],
   "source": [
    "from sklearn.linear_model import LogisticRegression\n",
    "from sklearn.tree import DecisionTreeClassifier\n",
    "from sklearn.ensemble import RandomForestClassifier\n",
    "from sklearn.naive_bayes import GaussianNB\n",
    "from sklearn.neighbors import KNeighborsClassifier\n",
    "from sklearn import svm"
   ]
  },
  {
   "cell_type": "markdown",
   "id": "74a86f71",
   "metadata": {},
   "source": [
    "**Initializing the models**\n",
    "\n",
    "1. **Logistic Regression** : C: Inverse of regularization strength (float), **random state**: (int), **solver**: sag,saga,liblinear (Here, we are using liblinear).\n",
    "\n",
    "\n",
    "2. **Decision trees**: Default parameters\n",
    "\n",
    "\n",
    "3. **Random forest**: Default parameters\n",
    "\n",
    "\n",
    "4. **Gaussian Naive Bayes**: Default parameters\n",
    "\n",
    "\n",
    "5. **K-nearest neighbors**: n_neighbors=3 – we can have another number of neighbors too.\n",
    "\n",
    "\n",
    "6. **Support vector machines**: kernel can be **linear, polynomial, RBF, sigmoid.** Here we are using a **linear kernel function.**"
   ]
  },
  {
   "cell_type": "code",
   "execution_count": 76,
   "id": "bfecb791",
   "metadata": {},
   "outputs": [],
   "source": [
    "lr=LogisticRegression(C = 0.1, random_state = 42, solver = 'liblinear')\n",
    "dt=DecisionTreeClassifier()\n",
    "rm=RandomForestClassifier()\n",
    "gnb=GaussianNB()\n",
    "knn = KNeighborsClassifier(n_neighbors=3)\n",
    "svm = svm.SVC(kernel='linear')"
   ]
  },
  {
   "cell_type": "markdown",
   "id": "ba537c68",
   "metadata": {},
   "source": [
    "Now, from one block of code, we will check the accuracy of all the model"
   ]
  },
  {
   "cell_type": "code",
   "execution_count": 77,
   "id": "edcec8e0",
   "metadata": {},
   "outputs": [
    {
     "name": "stdout",
     "output_type": "stream",
     "text": [
      "[Logistic Regression] training data accuracy is : 0.891061\n",
      "[Logistic Regression] test data accuracy is : 0.855556\n",
      "[Decision Tree] training data accuracy is : 1.000000\n",
      "[Decision Tree] test data accuracy is : 0.866667\n",
      "[KNN] training data accuracy is : 0.797486\n",
      "[KNN] test data accuracy is : 0.550000\n",
      "[SVM] training data accuracy is : 0.882682\n",
      "[SVM] test data accuracy is : 0.838889\n",
      "[Random Forest] training data accuracy is : 1.000000\n",
      "[Random Forest] test data accuracy is : 0.877778\n",
      "[Naive Bayes] training data accuracy is : 0.877095\n",
      "[Naive Bayes] test data accuracy is : 0.805556\n"
     ]
    }
   ],
   "source": [
    "for a,b in zip([lr,dt,knn,svm,rm,gnb],[\"Logistic Regression\",\"Decision Tree\",\"KNN\",\"SVM\",\"Random Forest\",\"Naive Bayes\"]):\n",
    "    a.fit(X_train,y_train)\n",
    "    prediction=a.predict(X_train)\n",
    "    y_pred=a.predict(X_test)\n",
    "    score1=accuracy_score(y_train,prediction)\n",
    "    score=accuracy_score(y_test,y_pred)\n",
    "    msg1=\"[%s] training data accuracy is : %f\" % (b,score1)\n",
    "    msg2=\"[%s] test data accuracy is : %f\" % (b,score)\n",
    "    print(msg1)\n",
    "    print(msg2)"
   ]
  },
  {
   "cell_type": "markdown",
   "id": "f08062b5",
   "metadata": {},
   "source": [
    "**Model Scores (accuracy)**"
   ]
  },
  {
   "cell_type": "code",
   "execution_count": 78,
   "id": "af8489e6",
   "metadata": {},
   "outputs": [
    {
     "data": {
      "text/plain": [
       "{'Logistic Regression': 0.8555555555555555,\n",
       " 'KNN classifier': 0.55,\n",
       " 'Support Vector Machine': 0.8388888888888889,\n",
       " 'Random forest': 0.8777777777777778,\n",
       " 'Decision tree': 0.8666666666666667,\n",
       " 'Naive Bayes': 0.8055555555555556}"
      ]
     },
     "execution_count": 78,
     "metadata": {},
     "output_type": "execute_result"
    }
   ],
   "source": [
    "model_scores={'Logistic Regression':lr.score(X_test,y_test),\n",
    "             'KNN classifier':knn.score(X_test,y_test),\n",
    "             'Support Vector Machine':svm.score(X_test,y_test),\n",
    "             'Random forest':rm.score(X_test,y_test),\n",
    "              'Decision tree':dt.score(X_test,y_test),\n",
    "              'Naive Bayes':gnb.score(X_test,y_test)\n",
    "             }\n",
    "model_scores"
   ]
  },
  {
   "cell_type": "markdown",
   "id": "25e5238e",
   "metadata": {},
   "source": [
    "Here, we can see that **Decision Tree** , **Random forest** and **Logistic Regression** have the best accuracy.\n",
    "\n",
    "**Classification Report of Random forest**"
   ]
  },
  {
   "cell_type": "code",
   "execution_count": 79,
   "id": "6c04680e",
   "metadata": {},
   "outputs": [
    {
     "name": "stdout",
     "output_type": "stream",
     "text": [
      "              precision    recall  f1-score   support\n",
      "\n",
      "        Left       0.84      0.79      0.82        62\n",
      "        Stay       0.89      0.92      0.91       118\n",
      "\n",
      "    accuracy                           0.88       180\n",
      "   macro avg       0.87      0.86      0.86       180\n",
      "weighted avg       0.88      0.88      0.88       180\n",
      "\n"
     ]
    }
   ],
   "source": [
    "from sklearn.metrics import classification_report\n",
    "\n",
    "rm_y_preds = rm.predict(X_test)\n",
    "\n",
    "print(classification_report(y_test,rm_y_preds))"
   ]
  },
  {
   "cell_type": "markdown",
   "id": "cbe135f8",
   "metadata": {},
   "source": [
    "**Classification Report of Decision Tree**"
   ]
  },
  {
   "cell_type": "code",
   "execution_count": 87,
   "id": "f53acd66",
   "metadata": {},
   "outputs": [
    {
     "name": "stdout",
     "output_type": "stream",
     "text": [
      "              precision    recall  f1-score   support\n",
      "\n",
      "        Left       0.80      0.82      0.81        62\n",
      "        Stay       0.91      0.89      0.90       118\n",
      "\n",
      "    accuracy                           0.87       180\n",
      "   macro avg       0.85      0.86      0.85       180\n",
      "weighted avg       0.87      0.87      0.87       180\n",
      "\n"
     ]
    }
   ],
   "source": [
    "from sklearn.metrics import classification_report\n",
    "\n",
    "dt_y_preds = dt.predict(X_test)\n",
    "\n",
    "print(classification_report(y_test,dt_y_preds))"
   ]
  },
  {
   "cell_type": "markdown",
   "id": "e95c9fb0",
   "metadata": {},
   "source": [
    "**Classification report on Logistic Regression**"
   ]
  },
  {
   "cell_type": "code",
   "execution_count": 90,
   "id": "edcafccf",
   "metadata": {},
   "outputs": [
    {
     "name": "stdout",
     "output_type": "stream",
     "text": [
      "              precision    recall  f1-score   support\n",
      "\n",
      "        Left       0.83      0.73      0.78        62\n",
      "        Stay       0.87      0.92      0.89       118\n",
      "\n",
      "    accuracy                           0.86       180\n",
      "   macro avg       0.85      0.82      0.83       180\n",
      "weighted avg       0.85      0.86      0.85       180\n",
      "\n"
     ]
    }
   ],
   "source": [
    "from sklearn.metrics import classification_report\n",
    "\n",
    "lr_y_preds = lr.predict(X_test)\n",
    "\n",
    "print(classification_report(y_test,lr_y_preds))"
   ]
  },
  {
   "cell_type": "markdown",
   "id": "5fb0c092",
   "metadata": {},
   "source": [
    "**Model Comparison**\n",
    "\n",
    "Based on the **accuracy**"
   ]
  },
  {
   "cell_type": "code",
   "execution_count": 89,
   "id": "8fc7c803",
   "metadata": {},
   "outputs": [
    {
     "data": {
      "text/html": [
       "<div>\n",
       "<style scoped>\n",
       "    .dataframe tbody tr th:only-of-type {\n",
       "        vertical-align: middle;\n",
       "    }\n",
       "\n",
       "    .dataframe tbody tr th {\n",
       "        vertical-align: top;\n",
       "    }\n",
       "\n",
       "    .dataframe thead th {\n",
       "        text-align: right;\n",
       "    }\n",
       "</style>\n",
       "<table border=\"1\" class=\"dataframe\">\n",
       "  <thead>\n",
       "    <tr style=\"text-align: right;\">\n",
       "      <th></th>\n",
       "      <th>Logistic Regression</th>\n",
       "      <th>KNN classifier</th>\n",
       "      <th>Support Vector Machine</th>\n",
       "      <th>Random forest</th>\n",
       "      <th>Decision tree</th>\n",
       "      <th>Naive Bayes</th>\n",
       "    </tr>\n",
       "  </thead>\n",
       "  <tbody>\n",
       "    <tr>\n",
       "      <th>accuracy</th>\n",
       "      <td>0.855556</td>\n",
       "      <td>0.55</td>\n",
       "      <td>0.838889</td>\n",
       "      <td>0.877778</td>\n",
       "      <td>0.866667</td>\n",
       "      <td>0.805556</td>\n",
       "    </tr>\n",
       "  </tbody>\n",
       "</table>\n",
       "</div>"
      ],
      "text/plain": [
       "          Logistic Regression  KNN classifier  Support Vector Machine  \\\n",
       "accuracy             0.855556            0.55                0.838889   \n",
       "\n",
       "          Random forest  Decision tree  Naive Bayes  \n",
       "accuracy       0.877778       0.866667     0.805556  "
      ]
     },
     "execution_count": 89,
     "metadata": {},
     "output_type": "execute_result"
    }
   ],
   "source": [
    "model_compare=pd.DataFrame(model_scores,index=['accuracy'])\n",
    "model_compare"
   ]
  },
  {
   "cell_type": "markdown",
   "id": "95fc89d8",
   "metadata": {},
   "source": [
    "**Visualize the accuracy of each model**"
   ]
  },
  {
   "cell_type": "code",
   "execution_count": 82,
   "id": "6e98e698",
   "metadata": {},
   "outputs": [
    {
     "data": {
      "text/plain": [
       "<Axes: >"
      ]
     },
     "execution_count": 82,
     "metadata": {},
     "output_type": "execute_result"
    },
    {
     "data": {
      "image/png": "[encoded data removed]",
      "text/plain": [
       "<Figure size 640x480 with 1 Axes>"
      ]
     },
     "metadata": {},
     "output_type": "display_data"
    }
   ],
   "source": [
    "model_compare.T.plot(kind='bar') # (T is here for transpose)"
   ]
  },
  {
   "cell_type": "markdown",
   "id": "c67be863",
   "metadata": {},
   "source": [
    "Yes, we can see that **Random Forest** has 1% better accuracy than **Decision Tree** and **Decision Tree** has 1% better accuracy than **Logistic Regression** but both Random Forest and Decision tree are overfitted models hence we will select **Logistic regression.**\n",
    "\n",
    "**Feature importance**\n",
    "\n",
    "These “coef’s” tell how much and in what way did each one of them contribute to predicting the target variable"
   ]
  },
  {
   "cell_type": "code",
   "execution_count": 91,
   "id": "ccc23d62",
   "metadata": {},
   "outputs": [
    {
     "data": {
      "text/plain": [
       "{'Unnamed: 0': np.float64(-0.00038074215104080784),\n",
       " 'Experience (YY.MM)': np.float64(0.09442609449123021),\n",
       " 'Age in YY.': np.float64(-0.0036678827065068967),\n",
       " 'Stay/Left': np.float64(0.005854122376866774),\n",
       " 'New Location': np.float64(0.1926249694849904),\n",
       " 'New Promotion': np.float64(2.75680612839771),\n",
       " 'New Job Role Match': np.float64(-0.22530506779813814),\n",
       " 'Agency': np.float64(-0.10219955974780859),\n",
       " 'Direct': np.float64(0.17060949807459422),\n",
       " 'Employee Referral': np.float64(0.4506735396829911),\n",
       " 'Marr.': np.float64(-0.58818718108413),\n",
       " 'Single': np.float64(-0.019381488070215072),\n",
       " 'other status': np.float64(-0.21504380438531698),\n",
       " 'B1': np.float64(0.08866858644851049),\n",
       " 'B2': np.float64(-0.12891718749709113),\n",
       " 'B3': np.float64(0.09839727596254604),\n",
       " 'other group': np.float64(-0.13338290039954948),\n",
       " '< =1': np.float64(-0.023512229071802167),\n",
       " '> 1 & < =3': np.float64(-0.0430797067218043),\n",
       " 'Operation': np.float64(-0.004813292044775815),\n",
       " 'Sales': np.float64(-0.10900213070477167),\n",
       " 'Support': np.float64(0.10117276940770152),\n",
       " 'Female': np.float64(-0.22998472411149687),\n",
       " 'Male': np.float64(-0.02808317476755692)}"
      ]
     },
     "execution_count": 91,
     "metadata": {},
     "output_type": "execute_result"
    }
   ],
   "source": [
    "# Logistic regression\n",
    "feature_dict=dict(zip(dataset.columns,list(lr.coef_[0])))\n",
    "feature_dict"
   ]
  },
  {
   "cell_type": "markdown",
   "id": "8f0def6d",
   "metadata": {},
   "source": [
    "This is a type of Model-driven Exploratory data analysis."
   ]
  },
  {
   "cell_type": "markdown",
   "id": "79e3073b",
   "metadata": {},
   "source": [
    "**Visualize feature importance**"
   ]
  },
  {
   "cell_type": "code",
   "execution_count": 92,
   "id": "91603b08",
   "metadata": {},
   "outputs": [
    {
     "data": {
      "text/plain": [
       "<Axes: title={'center': 'Feature Importance'}>"
      ]
     },
     "execution_count": 92,
     "metadata": {},
     "output_type": "execute_result"
    },
    {
     "data": {
      "image/png": "[encoded data removed]",
      "text/plain": [
       "<Figure size 640x480 with 1 Axes>"
      ]
     },
     "metadata": {},
     "output_type": "display_data"
    }
   ],
   "source": [
    "feature_df=pd.DataFrame(feature_dict,index=[0])\n",
    "feature_df.T.plot(kind=\"bar\",legend=False,title=\"Feature Importance\")"
   ]
  },
  {
   "cell_type": "markdown",
   "id": "1397fd9d",
   "metadata": {},
   "source": [
    "As we can see that **“New promotion” column has the highest feature importance.**\n",
    "\n",
    "**Saving the best model**\n",
    "\n",
    "**Approach -1**\n",
    "\n",
    "Logistic Regression model because it has the best accuracy as well it is neither overfitted nor under fitted"
   ]
  },
  {
   "cell_type": "code",
   "execution_count": 93,
   "id": "562551c6",
   "metadata": {},
   "outputs": [
    {
     "data": {
      "text/plain": [
       "array(['Stay', 'Stay', 'Stay', 'Stay', 'Stay', 'Stay', 'Stay', 'Left',\n",
       "       'Stay', 'Left', 'Stay', 'Stay', 'Left', 'Left', 'Stay', 'Left',\n",
       "       'Left', 'Stay', 'Stay', 'Stay', 'Stay', 'Stay', 'Stay', 'Left',\n",
       "       'Left', 'Stay', 'Stay', 'Left', 'Stay', 'Stay', 'Stay', 'Stay',\n",
       "       'Stay', 'Left', 'Stay', 'Stay', 'Left', 'Stay', 'Stay', 'Stay',\n",
       "       'Left', 'Stay', 'Stay', 'Left', 'Stay', 'Left', 'Stay', 'Stay',\n",
       "       'Stay', 'Stay', 'Stay', 'Stay', 'Stay', 'Stay', 'Left', 'Stay',\n",
       "       'Stay', 'Stay', 'Left', 'Stay', 'Stay', 'Stay', 'Stay', 'Stay',\n",
       "       'Stay', 'Stay', 'Stay', 'Stay', 'Stay', 'Left', 'Left', 'Stay',\n",
       "       'Stay', 'Stay', 'Stay', 'Left', 'Left', 'Stay', 'Left', 'Left',\n",
       "       'Stay', 'Stay', 'Left', 'Stay', 'Stay', 'Stay', 'Stay', 'Left',\n",
       "       'Stay', 'Stay', 'Left', 'Stay', 'Stay', 'Left', 'Stay', 'Stay',\n",
       "       'Left', 'Left', 'Stay', 'Stay', 'Left', 'Stay', 'Stay', 'Stay',\n",
       "       'Stay', 'Left', 'Left', 'Stay', 'Stay', 'Stay', 'Left', 'Left',\n",
       "       'Left', 'Left', 'Stay', 'Left', 'Left', 'Left', 'Stay', 'Left',\n",
       "       'Stay', 'Stay', 'Stay', 'Left', 'Stay', 'Stay', 'Stay', 'Stay',\n",
       "       'Stay', 'Left', 'Stay', 'Stay', 'Stay', 'Stay', 'Stay', 'Stay',\n",
       "       'Left', 'Stay', 'Left', 'Stay', 'Stay', 'Stay', 'Stay', 'Left',\n",
       "       'Stay', 'Stay', 'Stay', 'Stay', 'Stay', 'Left', 'Stay', 'Stay',\n",
       "       'Stay', 'Stay', 'Left', 'Stay', 'Stay', 'Stay', 'Stay', 'Left',\n",
       "       'Stay', 'Stay', 'Stay', 'Left', 'Stay', 'Stay', 'Left', 'Stay',\n",
       "       'Stay', 'Stay', 'Left', 'Stay', 'Stay', 'Stay', 'Left', 'Left',\n",
       "       'Left', 'Left', 'Stay', 'Stay'], dtype=object)"
      ]
     },
     "execution_count": 93,
     "metadata": {},
     "output_type": "execute_result"
    }
   ],
   "source": [
    "import pickle\n",
    "\n",
    "# Save the trained model as a pickle string.\n",
    "saved_model = pickle.dumps(lr)\n",
    "\n",
    "# Load the pickled model\n",
    "lr_from_pickle = pickle.loads(saved_model)\n",
    "\n",
    "# Use the loaded pickled model to make predictions\n",
    "lr_from_pickle.predict(X_test)"
   ]
  },
  {
   "cell_type": "markdown",
   "id": "bd72a801",
   "metadata": {},
   "source": [
    "**Approach – 2**"
   ]
  },
  {
   "cell_type": "code",
   "execution_count": 94,
   "id": "0ace3b73",
   "metadata": {},
   "outputs": [
    {
     "data": {
      "text/plain": [
       "array(['Stay', 'Stay', 'Stay', 'Stay', 'Stay', 'Stay', 'Stay', 'Left',\n",
       "       'Stay', 'Left', 'Stay', 'Stay', 'Left', 'Left', 'Stay', 'Left',\n",
       "       'Left', 'Stay', 'Stay', 'Stay', 'Stay', 'Stay', 'Stay', 'Left',\n",
       "       'Left', 'Stay', 'Stay', 'Left', 'Stay', 'Stay', 'Stay', 'Stay',\n",
       "       'Stay', 'Left', 'Stay', 'Stay', 'Left', 'Stay', 'Stay', 'Stay',\n",
       "       'Left', 'Stay', 'Stay', 'Left', 'Stay', 'Left', 'Stay', 'Stay',\n",
       "       'Stay', 'Stay', 'Stay', 'Stay', 'Stay', 'Stay', 'Left', 'Stay',\n",
       "       'Stay', 'Stay', 'Left', 'Stay', 'Stay', 'Stay', 'Stay', 'Stay',\n",
       "       'Stay', 'Stay', 'Stay', 'Stay', 'Stay', 'Left', 'Left', 'Stay',\n",
       "       'Stay', 'Stay', 'Stay', 'Left', 'Left', 'Stay', 'Left', 'Left',\n",
       "       'Stay', 'Stay', 'Left', 'Stay', 'Stay', 'Stay', 'Stay', 'Left',\n",
       "       'Stay', 'Stay', 'Left', 'Stay', 'Stay', 'Left', 'Stay', 'Stay',\n",
       "       'Left', 'Left', 'Stay', 'Stay', 'Left', 'Stay', 'Stay', 'Stay',\n",
       "       'Stay', 'Left', 'Left', 'Stay', 'Stay', 'Stay', 'Left', 'Left',\n",
       "       'Left', 'Left', 'Stay', 'Left', 'Left', 'Left', 'Stay', 'Left',\n",
       "       'Stay', 'Stay', 'Stay', 'Left', 'Stay', 'Stay', 'Stay', 'Stay',\n",
       "       'Stay', 'Left', 'Stay', 'Stay', 'Stay', 'Stay', 'Stay', 'Stay',\n",
       "       'Left', 'Stay', 'Left', 'Stay', 'Stay', 'Stay', 'Stay', 'Left',\n",
       "       'Stay', 'Stay', 'Stay', 'Stay', 'Stay', 'Left', 'Stay', 'Stay',\n",
       "       'Stay', 'Stay', 'Left', 'Stay', 'Stay', 'Stay', 'Stay', 'Left',\n",
       "       'Stay', 'Stay', 'Stay', 'Left', 'Stay', 'Stay', 'Left', 'Stay',\n",
       "       'Stay', 'Stay', 'Left', 'Stay', 'Stay', 'Stay', 'Left', 'Left',\n",
       "       'Left', 'Left', 'Stay', 'Stay'], dtype=object)"
      ]
     },
     "execution_count": 94,
     "metadata": {},
     "output_type": "execute_result"
    }
   ],
   "source": [
    "# loading dependency\n",
    "import joblib\n",
    "\n",
    "# saving our model - model - model , filename - model_lr\n",
    "joblib.dump(lr , 'model_lr')\n",
    "\n",
    "# opening the file- model_jlib\n",
    "m_jlib = joblib.load('model_lr')\n",
    "\n",
    "# check prediction\n",
    "m_jlib.predict(X_test) # similar output"
   ]
  }
 ],
 "metadata": {
  "kernelspec": {
   "display_name": "Python 3",
   "language": "python",
   "name": "python3"
  },
  "language_info": {
   "codemirror_mode": {
    "name": "ipython",
    "version": 3
   },
   "file_extension": ".py",
   "mimetype": "text/x-python",
   "name": "python",
   "nbconvert_exporter": "python",
   "pygments_lexer": "ipython3",
   "version": "3.13.5"
  }
 },
 "nbformat": 4,
 "nbformat_minor": 5
}
